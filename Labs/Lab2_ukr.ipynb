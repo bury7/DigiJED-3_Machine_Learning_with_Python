{
 "cells": [
  {
   "cell_type": "markdown",
   "id": "a657f770-4ac7-4636-9427-9c785cc1f9d6",
   "metadata": {},
   "source": [
    "\n",
    "<center>\n",
    "    \n",
    "## **Лабораторна робота № 2**\n",
    "#### **Виконав: Ніживенко А. Д.**\n",
    "### **Тема: Задача класифікації**\n",
    "    \n",
    "</center>\n",
    "\n",
    "#### **Мета роботи**: познайомитися із задачею класифікації даних, опанувати процес навчання класифікаторів та оцінювання їх якості, вивчити можливості бібліотеки scikit-learnдля цього.\n",
    "   \n",
    "<center>\n",
    "    \n",
    "### **Хід роботи**\n",
    "\n",
    "</center>\n",
    "\n"
   ]
  },
  {
   "cell_type": "markdown",
   "id": "6a143616-0c38-4207-89c1-e0e704f286dc",
   "metadata": {},
   "source": [
    "#### **Завданння 1. Підготуйте набір даних, щоб у ньому не було пропусків та якісні показники були бінаризовані або перекодовані.**"
   ]
  },
  {
   "cell_type": "markdown",
   "id": "ee41c9e2-0cfb-4ad6-a20d-85d2b26377ef",
   "metadata": {},
   "source": [
    "Імпортовано бібілотеки потрібні при виконанні лабораторної роботи."
   ]
  },
  {
   "cell_type": "code",
   "execution_count": 1,
   "id": "229cd354-2fad-4dca-9743-8d7e132978c5",
   "metadata": {},
   "outputs": [],
   "source": [
    "import numpy as np\n",
    "import pandas as pd\n",
    "import matplotlib.pyplot as plt\n",
    "\n",
    "from sklearn.metrics import confusion_matrix, balanced_accuracy_score, recall_score, precision_score\n",
    "from sklearn.model_selection import train_test_split, validation_curve, ShuffleSplit, KFold, GridSearchCV, RandomizedSearchCV\n",
    "from sklearn.preprocessing import MinMaxScaler\n",
    "\n",
    "from sklearn.linear_model import LogisticRegression\n",
    "from sklearn.neighbors import KNeighborsClassifier"
   ]
  },
  {
   "cell_type": "markdown",
   "id": "cf20cee8-9bed-4d34-80cb-0dc19f87f298",
   "metadata": {},
   "source": [
    "Набір даних \"adult\" було успішно завантажено до DataFrame за допомогою функції `read_csv`."
   ]
  },
  {
   "cell_type": "code",
   "execution_count": 2,
   "id": "7140eca8-fa4f-4ce6-8cb4-38ddf5e99727",
   "metadata": {},
   "outputs": [],
   "source": [
    "df = pd.read_csv(\"adult/adult.data\", sep=\", \", na_values=\"?\", engine=\"python\",\n",
    "                 names=[\"age\", \"workclass\", \"fnlwgt\", \"education\", \"education_num\", \"marital_status\", \"occupation\", \"relationship\", \"race\", \"sex\", \"capital_gain\", \"capital_loss\", \"hours_per_week\", \"native_country\", \"gross_income\"])"
   ]
  },
  {
   "cell_type": "markdown",
   "id": "cbbd4fcc-1723-4b11-9057-197fb72764f1",
   "metadata": {},
   "source": [
    "Використовуючи метод `dropna()` та `fillna()` оброблено пропуски. "
   ]
  },
  {
   "cell_type": "code",
   "execution_count": 3,
   "id": "44cec44d-3b1a-4f70-a6bf-c67c229e8d9d",
   "metadata": {},
   "outputs": [],
   "source": [
    "df.dropna(subset=[\"workclass\", \"native_country\"], inplace=True)\n",
    "df[\"occupation\"].fillna(df[\"occupation\"].mode()[0], inplace=True)"
   ]
  },
  {
   "cell_type": "markdown",
   "id": "14f12816-c1fe-438e-a953-b2f4e1f4a9eb",
   "metadata": {},
   "source": [
    "Перетворено всі якісні ознаки в набір бінарних ознак, використавши функцію `get_dummies()` та метод `map()`."
   ]
  },
  {
   "cell_type": "code",
   "execution_count": 4,
   "id": "cd1226b2-2af6-4289-8dd9-2777eada43ce",
   "metadata": {},
   "outputs": [],
   "source": [
    "for column in [\"workclass\", \"marital_status\", \"occupation\", \"relationship\", \"race\", \"sex\"]:\n",
    "    df = pd.get_dummies(df, columns=[column], drop_first=True)\n",
    "df['native_country'] = df['native_country'].map(lambda x: True if x == 'United-States' else False)\n",
    "df.rename(columns={'native_country': 'united_states'}, inplace=True)"
   ]
  },
  {
   "cell_type": "markdown",
   "id": "892011c6-c37e-41a9-a660-be24549e45f3",
   "metadata": {},
   "source": [
    "З набору ознак видалено ознаку `education`, тому що інформація про освітній рівень вже представлена у стовпці `education_num`."
   ]
  },
  {
   "cell_type": "code",
   "execution_count": 5,
   "id": "92f35dd7-5f43-47ea-a899-5741c9c6f78c",
   "metadata": {},
   "outputs": [],
   "source": [
    "df.drop(columns=[\"education\"], inplace=True)"
   ]
  },
  {
   "cell_type": "markdown",
   "id": "67409631-d3bf-424a-be8a-25d2419232cb",
   "metadata": {},
   "source": [
    "#### **Завданння 2. Перевірте, чи збалансовані класи.**"
   ]
  },
  {
   "cell_type": "markdown",
   "id": "91448a49-b041-46e8-92be-003b121934e2",
   "metadata": {},
   "source": [
    "Перевірено збалансованість класів за допомогою методу `value_counts()` та представлено інформацію у вигляді діаграми за допомогою `matplotlib.pyplot`. Проаналізувавши отриману інформацію, можна побачити, що класи є незбалансовані та клас `<=50K` переважає у DataFrame."
   ]
  },
  {
   "cell_type": "code",
   "execution_count": 6,
   "id": "4ba9dda6-35ab-4303-8818-18550a0a2e5e",
   "metadata": {},
   "outputs": [
    {
     "name": "stdout",
     "output_type": "stream",
     "text": [
      "gross_income\n",
      "<=50K    22661\n",
      ">50K      7508\n",
      "Name: count, dtype: int64\n"
     ]
    }
   ],
   "source": [
    "class_counts = df[\"gross_income\"].value_counts()\n",
    "print(class_counts)"
   ]
  },
  {
   "cell_type": "code",
   "execution_count": 7,
   "id": "c8acf0ca-0b27-42e9-8e31-d655c0630412",
   "metadata": {},
   "outputs": [
    {
     "data": {
      "image/png": "[encoded data removed]",
      "text/plain": [
       "<Figure size 300x300 with 1 Axes>"
      ]
     },
     "metadata": {},
     "output_type": "display_data"
    }
   ],
   "source": [
    "plt.figure(figsize=(3, 3))\n",
    "class_counts.plot(kind=\"bar\", color=\"gray\")\n",
    "plt.title(\"Distribution of classes\")\n",
    "plt.ylabel(\"Amount\")\n",
    "plt.xlabel(\"Target feature\")\n",
    "plt.show()"
   ]
  },
  {
   "cell_type": "markdown",
   "id": "6fbf156f-727b-4b58-b5f1-ccece4a430bc",
   "metadata": {},
   "source": [
    "#### **Завданння 3. Оберіть метрику (або декілька метрик), яку далі будете використовувати для оцінювання якості класифікації.**"
   ]
  },
  {
   "cell_type": "markdown",
   "id": "79629669-8efb-43c9-959f-b330cf4d07c4",
   "metadata": {},
   "source": [
    "Так як використовується набір даних в якому класи незбалансовані, було вибрано метрики якості, які нечутливі до незбалансованості класів, а саме вибрано `Confusion matrix` (таблиця, яка показує кількість правильних та неправильних прогнозів, зроблених моделлю класифікації на основі тестового набору даних. ), `Balanced accuracy` (Середнє арифметичне правильно класифікованих об'єктів кожного класу), `Recall` (Доля правильно класифікованих об’єктів певного класу) та `Precision` (Доля об’єктів певного класу серед об’єктів, які класифікатор відніс до цього класу)."
   ]
  },
  {
   "cell_type": "markdown",
   "id": "51d23c7b-ec52-4c3a-a793-e9f8c1f9c943",
   "metadata": {},
   "source": [
    "#### **Завданння 4. Розділіть набір даних на 2 вибірки: навчальну та тестову**\n"
   ]
  },
  {
   "cell_type": "markdown",
   "id": "5e34c5bd-f20a-4220-877d-ddb7431ec445",
   "metadata": {},
   "source": [
    "Вибірку було розбито на тестову і навчальну за допомгою функції `train_test_split`."
   ]
  },
  {
   "cell_type": "code",
   "execution_count": 8,
   "id": "f275206a-c4e1-484d-a555-f32113191fac",
   "metadata": {},
   "outputs": [],
   "source": [
    "X = df.loc[:, df.columns != 'gross_income']\n",
    "y = df[\"gross_income\"]"
   ]
  },
  {
   "cell_type": "code",
   "execution_count": 9,
   "id": "00c6d2ec-f9b2-4229-8dca-236d4639a1f8",
   "metadata": {},
   "outputs": [],
   "source": [
    "X_train, X_test, y_train, y_test = train_test_split(X, y, test_size=0.33)"
   ]
  },
  {
   "cell_type": "code",
   "execution_count": 10,
   "id": "ffe05c55-acb4-45ca-94d3-9bfc43101126",
   "metadata": {},
   "outputs": [
    {
     "data": {
      "text/html": [
       "<div>\n",
       "<style scoped>\n",
       "    .dataframe tbody tr th:only-of-type {\n",
       "        vertical-align: middle;\n",
       "    }\n",
       "\n",
       "    .dataframe tbody tr th {\n",
       "        vertical-align: top;\n",
       "    }\n",
       "\n",
       "    .dataframe thead th {\n",
       "        text-align: right;\n",
       "    }\n",
       "</style>\n",
       "<table border=\"1\" class=\"dataframe\">\n",
       "  <thead>\n",
       "    <tr style=\"text-align: right;\">\n",
       "      <th></th>\n",
       "      <th>age</th>\n",
       "      <th>fnlwgt</th>\n",
       "      <th>education_num</th>\n",
       "      <th>capital_gain</th>\n",
       "      <th>capital_loss</th>\n",
       "      <th>hours_per_week</th>\n",
       "      <th>united_states</th>\n",
       "      <th>workclass_Local-gov</th>\n",
       "      <th>workclass_Never-worked</th>\n",
       "      <th>workclass_Private</th>\n",
       "      <th>...</th>\n",
       "      <th>relationship_Not-in-family</th>\n",
       "      <th>relationship_Other-relative</th>\n",
       "      <th>relationship_Own-child</th>\n",
       "      <th>relationship_Unmarried</th>\n",
       "      <th>relationship_Wife</th>\n",
       "      <th>race_Asian-Pac-Islander</th>\n",
       "      <th>race_Black</th>\n",
       "      <th>race_Other</th>\n",
       "      <th>race_White</th>\n",
       "      <th>sex_Male</th>\n",
       "    </tr>\n",
       "  </thead>\n",
       "  <tbody>\n",
       "    <tr>\n",
       "      <th>13910</th>\n",
       "      <td>73</td>\n",
       "      <td>80986</td>\n",
       "      <td>9</td>\n",
       "      <td>0</td>\n",
       "      <td>0</td>\n",
       "      <td>20</td>\n",
       "      <td>True</td>\n",
       "      <td>False</td>\n",
       "      <td>False</td>\n",
       "      <td>False</td>\n",
       "      <td>...</td>\n",
       "      <td>False</td>\n",
       "      <td>False</td>\n",
       "      <td>False</td>\n",
       "      <td>False</td>\n",
       "      <td>False</td>\n",
       "      <td>False</td>\n",
       "      <td>False</td>\n",
       "      <td>False</td>\n",
       "      <td>True</td>\n",
       "      <td>True</td>\n",
       "    </tr>\n",
       "    <tr>\n",
       "      <th>22714</th>\n",
       "      <td>20</td>\n",
       "      <td>70708</td>\n",
       "      <td>9</td>\n",
       "      <td>0</td>\n",
       "      <td>0</td>\n",
       "      <td>60</td>\n",
       "      <td>True</td>\n",
       "      <td>False</td>\n",
       "      <td>False</td>\n",
       "      <td>True</td>\n",
       "      <td>...</td>\n",
       "      <td>False</td>\n",
       "      <td>False</td>\n",
       "      <td>False</td>\n",
       "      <td>False</td>\n",
       "      <td>False</td>\n",
       "      <td>False</td>\n",
       "      <td>False</td>\n",
       "      <td>False</td>\n",
       "      <td>True</td>\n",
       "      <td>True</td>\n",
       "    </tr>\n",
       "    <tr>\n",
       "      <th>14162</th>\n",
       "      <td>33</td>\n",
       "      <td>96245</td>\n",
       "      <td>12</td>\n",
       "      <td>0</td>\n",
       "      <td>0</td>\n",
       "      <td>50</td>\n",
       "      <td>True</td>\n",
       "      <td>False</td>\n",
       "      <td>False</td>\n",
       "      <td>True</td>\n",
       "      <td>...</td>\n",
       "      <td>False</td>\n",
       "      <td>False</td>\n",
       "      <td>False</td>\n",
       "      <td>False</td>\n",
       "      <td>False</td>\n",
       "      <td>False</td>\n",
       "      <td>False</td>\n",
       "      <td>False</td>\n",
       "      <td>True</td>\n",
       "      <td>True</td>\n",
       "    </tr>\n",
       "    <tr>\n",
       "      <th>11982</th>\n",
       "      <td>35</td>\n",
       "      <td>407068</td>\n",
       "      <td>2</td>\n",
       "      <td>0</td>\n",
       "      <td>0</td>\n",
       "      <td>40</td>\n",
       "      <td>False</td>\n",
       "      <td>False</td>\n",
       "      <td>False</td>\n",
       "      <td>True</td>\n",
       "      <td>...</td>\n",
       "      <td>True</td>\n",
       "      <td>False</td>\n",
       "      <td>False</td>\n",
       "      <td>False</td>\n",
       "      <td>False</td>\n",
       "      <td>False</td>\n",
       "      <td>False</td>\n",
       "      <td>False</td>\n",
       "      <td>True</td>\n",
       "      <td>True</td>\n",
       "    </tr>\n",
       "    <tr>\n",
       "      <th>19076</th>\n",
       "      <td>62</td>\n",
       "      <td>39630</td>\n",
       "      <td>13</td>\n",
       "      <td>0</td>\n",
       "      <td>0</td>\n",
       "      <td>40</td>\n",
       "      <td>True</td>\n",
       "      <td>False</td>\n",
       "      <td>False</td>\n",
       "      <td>False</td>\n",
       "      <td>...</td>\n",
       "      <td>False</td>\n",
       "      <td>False</td>\n",
       "      <td>False</td>\n",
       "      <td>False</td>\n",
       "      <td>False</td>\n",
       "      <td>False</td>\n",
       "      <td>False</td>\n",
       "      <td>False</td>\n",
       "      <td>True</td>\n",
       "      <td>True</td>\n",
       "    </tr>\n",
       "  </tbody>\n",
       "</table>\n",
       "<p>5 rows × 43 columns</p>\n",
       "</div>"
      ],
      "text/plain": [
       "       age  fnlwgt  education_num  capital_gain  capital_loss  hours_per_week  \\\n",
       "13910   73   80986              9             0             0              20   \n",
       "22714   20   70708              9             0             0              60   \n",
       "14162   33   96245             12             0             0              50   \n",
       "11982   35  407068              2             0             0              40   \n",
       "19076   62   39630             13             0             0              40   \n",
       "\n",
       "       united_states  workclass_Local-gov  workclass_Never-worked  \\\n",
       "13910           True                False                   False   \n",
       "22714           True                False                   False   \n",
       "14162           True                False                   False   \n",
       "11982          False                False                   False   \n",
       "19076           True                False                   False   \n",
       "\n",
       "       workclass_Private  ...  relationship_Not-in-family  \\\n",
       "13910              False  ...                       False   \n",
       "22714               True  ...                       False   \n",
       "14162               True  ...                       False   \n",
       "11982               True  ...                        True   \n",
       "19076              False  ...                       False   \n",
       "\n",
       "       relationship_Other-relative  relationship_Own-child  \\\n",
       "13910                        False                   False   \n",
       "22714                        False                   False   \n",
       "14162                        False                   False   \n",
       "11982                        False                   False   \n",
       "19076                        False                   False   \n",
       "\n",
       "       relationship_Unmarried  relationship_Wife  race_Asian-Pac-Islander  \\\n",
       "13910                   False              False                    False   \n",
       "22714                   False              False                    False   \n",
       "14162                   False              False                    False   \n",
       "11982                   False              False                    False   \n",
       "19076                   False              False                    False   \n",
       "\n",
       "       race_Black  race_Other  race_White  sex_Male  \n",
       "13910       False       False        True      True  \n",
       "22714       False       False        True      True  \n",
       "14162       False       False        True      True  \n",
       "11982       False       False        True      True  \n",
       "19076       False       False        True      True  \n",
       "\n",
       "[5 rows x 43 columns]"
      ]
     },
     "execution_count": 10,
     "metadata": {},
     "output_type": "execute_result"
    }
   ],
   "source": [
    "X_test.tail()"
   ]
  },
  {
   "cell_type": "code",
   "execution_count": 11,
   "id": "642b7011-b725-4e28-8d14-0fc390288c0e",
   "metadata": {},
   "outputs": [
    {
     "data": {
      "text/plain": [
       "13910    <=50K\n",
       "22714    <=50K\n",
       "14162    <=50K\n",
       "11982    <=50K\n",
       "19076    <=50K\n",
       "Name: gross_income, dtype: object"
      ]
     },
     "execution_count": 11,
     "metadata": {},
     "output_type": "execute_result"
    }
   ],
   "source": [
    "y_test.tail()"
   ]
  },
  {
   "cell_type": "markdown",
   "id": "0dd27304-270d-4b11-8d02-8cd6d2b823bd",
   "metadata": {},
   "source": [
    "#### **Завданння 5. Навчіть логістичну регресію без регуляризації на навчальній частині.**"
   ]
  },
  {
   "cell_type": "markdown",
   "id": "7c5b6517-62ec-4cf5-91c1-1a30cc545b9a",
   "metadata": {},
   "source": [
    "Навчено логістичну регресію без регуляризації на навчальній частині."
   ]
  },
  {
   "cell_type": "code",
   "execution_count": 12,
   "id": "3c6c8706-10f1-4ca6-8f2e-be0cf0df4477",
   "metadata": {},
   "outputs": [],
   "source": [
    "log_reg = LogisticRegression(penalty=None)\n",
    "log_reg.fit(X_train, y_train)\n",
    "y_pred_train = log_reg.predict(X_train)\n",
    "y_pred_test = log_reg.predict(X_test)"
   ]
  },
  {
   "cell_type": "markdown",
   "id": "7f3516e0-429f-4790-9dcc-31487566e153",
   "metadata": {},
   "source": [
    "Виведено параметри отриманої моделі.\n",
    "Параметри, які були виведені, є вагами моделі логістичної регресії. У цій моделі кожен параметр відповідає коефіцієнту перед однією змінною у вхідних даних. Кількість параметрів дорівнює кількості ознак, які були використані для навчання моделі.\n",
    "Єдиний параметр перехоплення `intercept` відповідає за зміщення у моделі, тобто базовий рівень відгуку, коли всі інші ознаки рівні нулю.\n",
    "Кожен інший параметр `coef` відповідає коефіцієнту перед певною ознакою у датасеті."
   ]
  },
  {
   "cell_type": "code",
   "execution_count": 13,
   "id": "f3f4719a-a8ba-4a8f-9bf4-18e0a4c2a358",
   "metadata": {},
   "outputs": [
    {
     "name": "stdout",
     "output_type": "stream",
     "text": [
      "[-0.00033959]\n",
      "[[-6.45740308e-03 -3.72786551e-06 -1.55834720e-03  3.44535266e-04\n",
      "   7.81055715e-04 -7.67893054e-03 -3.07261815e-04 -1.98403615e-06\n",
      "  -4.19112998e-07 -3.51899699e-04  4.07247083e-05 -3.18376841e-05\n",
      "  -8.01396236e-06 -7.38348894e-07  9.71508285e-07  3.83402400e-04\n",
      "  -1.73928075e-05 -4.60235729e-04 -3.81863403e-05 -3.60529107e-05\n",
      "  -2.70656247e-07 -5.73243953e-05  1.19727968e-04 -4.11783347e-05\n",
      "  -5.43880556e-05 -6.27068709e-05 -1.56452355e-04 -7.95108275e-06\n",
      "   8.76671247e-05  6.47441724e-06 -2.99765973e-05  1.64438039e-06\n",
      "  -3.12804989e-05 -3.04644654e-04 -4.15038843e-05 -2.39037486e-04\n",
      "  -1.45149434e-04  4.84877389e-05 -6.35156212e-06 -6.47138891e-05\n",
      "  -8.45501867e-06 -2.44402937e-04  2.57232618e-05]]\n"
     ]
    }
   ],
   "source": [
    "print(log_reg.intercept_)\n",
    "print(log_reg.coef_ )"
   ]
  },
  {
   "cell_type": "markdown",
   "id": "fbbc9bfc-1af2-4d1b-bb9d-11214d5cdd3f",
   "metadata": {},
   "source": [
    "#### **Завданння 6. Розрахуйте метрики якості на навчальній та тестовій частинах.**"
   ]
  },
  {
   "cell_type": "markdown",
   "id": "5319ceab-cf29-4525-8fb0-c6fd6eaadbc6",
   "metadata": {},
   "source": [
    "Розраховано метрики якості на навчальній частині."
   ]
  },
  {
   "cell_type": "code",
   "execution_count": 14,
   "id": "9e10cb52-2d91-4584-8b8f-8663e5040e3e",
   "metadata": {},
   "outputs": [
    {
     "name": "stdout",
     "output_type": "stream",
     "text": [
      "Train balanced accuracy: 0.6162244170169174\n",
      "Train recall: [0.9649977  0.26745114]\n",
      "Train precision: [0.79972737 0.71596369]\n",
      "Train confusion matrix:\n",
      " [[14667   532]\n",
      " [ 3673  1341]]\n"
     ]
    }
   ],
   "source": [
    "print(f\"Train balanced accuracy: {balanced_accuracy_score(y_train, y_pred_train)}\")\n",
    "print(f\"Train recall: {recall_score(y_train, y_pred_train, average=None)}\")\n",
    "print(f\"Train precision: {precision_score(y_train, y_pred_train, average=None)}\")\n",
    "print(f\"Train confusion matrix:\\n {confusion_matrix(y_train, y_pred_train)}\")"
   ]
  },
  {
   "cell_type": "markdown",
   "id": "3a1fecc4-3888-4cad-80f1-7d5305e865e6",
   "metadata": {},
   "source": [
    "Розраховано метрики якості на тестовій  частині."
   ]
  },
  {
   "cell_type": "code",
   "execution_count": 15,
   "id": "84cb26d2-d83e-4b57-8c0c-bdcc862b9517",
   "metadata": {},
   "outputs": [
    {
     "name": "stdout",
     "output_type": "stream",
     "text": [
      "Test balanced accuracy: 0.6154920294367162\n",
      "Test recall: [0.96113642 0.26984763]\n",
      "Test precision: [0.79750917 0.69885774]\n",
      "Test confusion matrix:\n",
      " [[7172  290]\n",
      " [1821  673]]\n"
     ]
    }
   ],
   "source": [
    "print(f\"Test balanced accuracy: {balanced_accuracy_score(y_test, y_pred_test)}\")\n",
    "print(f\"Test recall: {recall_score(y_test, y_pred_test, average=None)}\")\n",
    "print(f\"Test precision: {precision_score(y_test, y_pred_test, average=None)}\")\n",
    "print(f\"Test confusion matrix:\\n {confusion_matrix(y_test, y_pred_test)}\")"
   ]
  },
  {
   "cell_type": "markdown",
   "id": "db927652-58f4-447d-9430-4dde5b0cd561",
   "metadata": {},
   "source": [
    "Опираючись на отриману інформацію, можна зробити висновок, що модель, ймовірно, страждає від проблеми перенавчання та недооцінки другого класу. Перш за все, модель має високий рівень `balanced accuracy` на навчальній та тестовій вибірках, що свідчить про те, що вона успішно вивчила основні закономірності даних. Однак, ретельний аналіз метрик `precision` та `recall` розкриває проблеми з розпізнаванням другого класу.\n",
    "\n",
    "Схоже, модель перенавчилася на перший клас, оскільки він значно переважає в навчальних даних. Також це може бути результатом надмірної складності моделі, яка намагається максимізувати свою точність шляхом адаптації до домінуючого класу, знехтувавши менш представленими класами."
   ]
  },
  {
   "cell_type": "markdown",
   "id": "28b65ed6-ab88-48d3-a299-72f5bebf0e41",
   "metadata": {},
   "source": [
    "#### **Завданння 7. Навчіть логістичну регресію з регуляризацією (L2 або L1 за власним бажанням). Для цього Вам потрібно підібрати оптимальне значення параметра регуляризації. Це можна зробити «вручну» або за допомогою вбудованих засобів бібліотеки scikit-learn.**"
   ]
  },
  {
   "cell_type": "markdown",
   "id": "84b8b64c-7ee4-4af0-abf3-92834b8dde38",
   "metadata": {},
   "source": [
    "Задано список і словник можливих значень для гіперпараметра."
   ]
  },
  {
   "cell_type": "code",
   "execution_count": 16,
   "id": "9d8ebb9b-ba70-4d42-a05b-d60903f989b8",
   "metadata": {},
   "outputs": [],
   "source": [
    "hyperparameters_list = np.concatenate((np.arange(0.1, 1, 0.1), np.arange(1, 10, 1), np.arange(10, 100, 10)))\n",
    "hyperparameters_dict = {\"C\": np.concatenate((np.arange(0.1, 1, 0.1), np.arange(1, 10, 1), np.arange(10, 100, 10)))}"
   ]
  },
  {
   "cell_type": "markdown",
   "id": "e4532978-40b5-4a17-925c-26e382906dd6",
   "metadata": {},
   "source": [
    "Навчальну вибірку розбито на дві частини: навчальну і валідаційну. Це зроблено для того, щоб оцінити якість моделі на незалежних даних, які модель не бачила під час навчання. Це допомагає уникнути перенавчанню. Також реалізовано цикл, який перебирає значення гіперпараметрів, за кожномим значенням навчається логістична регресія на навчальній частині і оцінюється якість моделі, вибираючи найкраще значення гіперпараметра."
   ]
  },
  {
   "cell_type": "code",
   "execution_count": 17,
   "id": "769d5ed3-9c0e-42d3-8686-9e2b3699a873",
   "metadata": {},
   "outputs": [
    {
     "name": "stdout",
     "output_type": "stream",
     "text": [
      "Hyperparameter 0.1:\n",
      "Balanced acuracy train: 0.7612004161939573\n",
      "Balanced acuracy validation: 0.7645711073827948 \n",
      "\n",
      "Hyperparameter 0.2:\n",
      "Balanced acuracy train: 0.7667353973869395\n",
      "Balanced acuracy validation: 0.7672455403860021 \n",
      "\n",
      "Hyperparameter 0.30000000000000004:\n",
      "Balanced acuracy train: 0.7664854992684801\n",
      "Balanced acuracy validation: 0.7712109366464092 \n",
      "\n",
      "Hyperparameter 0.4:\n",
      "Balanced acuracy train: 0.7678150271602556\n",
      "Balanced acuracy validation: 0.7734341880673914 \n",
      "\n",
      "Hyperparameter 0.5:\n",
      "Balanced acuracy train: 0.7679691601256271\n",
      "Balanced acuracy validation: 0.7720516288183207 \n",
      "\n",
      "Hyperparameter 0.6:\n",
      "Balanced acuracy train: 0.76761825423621\n",
      "Balanced acuracy validation: 0.7746566819549219 \n",
      "\n",
      "Hyperparameter 0.7000000000000001:\n",
      "Balanced acuracy train: 0.768112807855259\n",
      "Balanced acuracy validation: 0.774458072223045 \n",
      "\n",
      "Hyperparameter 0.8:\n",
      "Balanced acuracy train: 0.7684092778957949\n",
      "Balanced acuracy validation: 0.7734341880673914 \n",
      "\n",
      "Hyperparameter 0.9:\n",
      "Balanced acuracy train: 0.7690004704375768\n",
      "Balanced acuracy validation: 0.774970014300872 \n",
      "\n",
      "Hyperparameter 1.0:\n",
      "Balanced acuracy train: 0.7684092778957949\n",
      "Balanced acuracy validation: 0.7740454350111566 \n",
      "\n",
      "Hyperparameter 2.0:\n",
      "Balanced acuracy train: 0.7690509743230557\n",
      "Balanced acuracy validation: 0.7752833466468219 \n",
      "\n",
      "Hyperparameter 3.0:\n",
      "Balanced acuracy train: 0.7692024859794923\n",
      "Balanced acuracy validation: 0.7732895404539859 \n",
      "\n",
      "Hyperparameter 4.0:\n",
      "Balanced acuracy train: 0.7697919309819843\n",
      "Balanced acuracy validation: 0.7755050830009007 \n",
      "\n",
      "Hyperparameter 5.0:\n",
      "Balanced acuracy train: 0.7698419979826406\n",
      "Balanced acuracy validation: 0.7759023024646545 \n",
      "\n",
      "Hyperparameter 6.0:\n",
      "Balanced acuracy train: 0.769150671439546\n",
      "Balanced acuracy validation: 0.7753903603868277 \n",
      "\n",
      "Hyperparameter 7.0:\n",
      "Balanced acuracy train: 0.7692499316712138\n",
      "Balanced acuracy validation: 0.7760016073305929 \n",
      "\n",
      "Hyperparameter 8.0:\n",
      "Balanced acuracy train: 0.7692499316712138\n",
      "Balanced acuracy validation: 0.7750924457890124 \n",
      "\n",
      "Hyperparameter 9.0:\n",
      "Balanced acuracy train: 0.7695459648269272\n",
      "Balanced acuracy validation: 0.7757036927327776 \n",
      "\n",
      "Hyperparameter 10.0:\n",
      "Balanced acuracy train: 0.7694963347110932\n",
      "Balanced acuracy validation: 0.7753903603868277 \n",
      "\n",
      "Hyperparameter 20.0:\n",
      "Balanced acuracy train: 0.7697928047516291\n",
      "Balanced acuracy validation: 0.7753064732690239 \n",
      "\n",
      "Hyperparameter 30.0:\n",
      "Balanced acuracy train: 0.7691511083243685\n",
      "Balanced acuracy validation: 0.7754896652527661 \n",
      "\n",
      "Hyperparameter 40.0:\n",
      "Balanced acuracy train: 0.7691019150933571\n",
      "Balanced acuracy validation: 0.7753903603868277 \n",
      "\n",
      "Hyperparameter 50.0:\n",
      "Balanced acuracy train: 0.7696465357130624\n",
      "Balanced acuracy validation: 0.774611339207455 \n",
      "\n",
      "Hyperparameter 60.0:\n",
      "Balanced acuracy train: 0.7693487550180591\n",
      "Balanced acuracy validation: 0.7753064732690239 \n",
      "\n",
      "Hyperparameter 70.0:\n",
      "Balanced acuracy train: 0.7695955949427611\n",
      "Balanced acuracy validation: 0.7761009121965314 \n",
      "\n",
      "Hyperparameter 80.0:\n",
      "Balanced acuracy train: 0.769892938752942\n",
      "Balanced acuracy validation: 0.7752148772771529 \n",
      "\n",
      "Hyperparameter 90.0:\n",
      "Balanced acuracy train: 0.769151545209191\n",
      "Balanced acuracy validation: 0.7754896652527661 \n",
      "\n",
      "Best hyperparameter value: 70.0\n",
      "Validation balanced accuracy: 0.7761009121965314\n"
     ]
    }
   ],
   "source": [
    "X_train2, X_val, y_train2, y_val = train_test_split(X_train, y_train, test_size=0.33)\n",
    "\n",
    "best_accuracy = 0\n",
    "best_hyperparameter = None\n",
    "\n",
    "for C in hyperparameters_list:\n",
    "    model = LogisticRegression(C=C, penalty='l1', solver='liblinear')\n",
    "    model.fit(X_train2, y_train2)\n",
    "\n",
    "    y_pred_train2 = model.predict(X_train2)\n",
    "    y_pred_val = model.predict(X_val)\n",
    "    accuracy_train2 = balanced_accuracy_score(y_train2, y_pred_train2)\n",
    "    accuracy_val = balanced_accuracy_score(y_val, y_pred_val)\n",
    "    print(f\"Hyperparameter {C}:\")\n",
    "    print(f\"Balanced acuracy train: {accuracy_train2}\")\n",
    "    print(f\"Balanced acuracy validation: {accuracy_val} \\n\")\n",
    "    if accuracy_val > best_accuracy:\n",
    "        best_accuracy = accuracy_val\n",
    "        best_hyperparameter = C\n",
    "\n",
    "print(\"Best hyperparameter value:\", best_hyperparameter)\n",
    "print(\"Validation balanced accuracy:\", best_accuracy)"
   ]
  },
  {
   "cell_type": "markdown",
   "id": "9dfb448b-2724-42a4-9095-29c80db1dcd4",
   "metadata": {},
   "source": [
    "За допомогою функції `validation_curve` побудовано криву навчання в якості аргументу `cv` використано `KFold`."
   ]
  },
  {
   "cell_type": "code",
   "execution_count": 18,
   "id": "9846eb25-c6f0-4ead-b836-994f02824709",
   "metadata": {
    "scrolled": true
   },
   "outputs": [
    {
     "data": {
      "image/png": "[encoded data removed]",
      "text/plain": [
       "<Figure size 700x300 with 1 Axes>"
      ]
     },
     "metadata": {},
     "output_type": "display_data"
    }
   ],
   "source": [
    "train_scores, val_scores = validation_curve(\n",
    "    LogisticRegression(penalty=\"l1\", solver=\"liblinear\"), \n",
    "    X_train, y_train, param_name=\"C\", param_range=hyperparameters_list, \n",
    "    scoring=\"balanced_accuracy\", cv=KFold(n_splits=5, shuffle=True))\n",
    "\n",
    "plt.figure(figsize=(7, 3))\n",
    "plt.plot(hyperparameters_list, train_scores.mean(axis=1), label=\"Train\")\n",
    "plt.plot(hyperparameters_list, val_scores.mean(axis=1), label=\"Validation\")\n",
    "plt.title(\"Validation curve\")\n",
    "plt.xlabel(\"Hyperparameter C\")\n",
    "plt.ylabel(\"Balanced acuracy\")\n",
    "plt.legend()\n",
    "plt.show()"
   ]
  },
  {
   "cell_type": "markdown",
   "id": "687091f3-9af7-4e55-af4d-0d462d2607ec",
   "metadata": {},
   "source": [
    "За допомогою функції `validation_curve` побудовано криву навчання в якості аргументу `cv` використано `ShuffleSplit`."
   ]
  },
  {
   "cell_type": "code",
   "execution_count": 19,
   "id": "0f5cd6b5-6d75-403b-901a-14f8b7360b66",
   "metadata": {},
   "outputs": [
    {
     "data": {
      "image/png": "[encoded data removed]",
      "text/plain": [
       "<Figure size 700x300 with 1 Axes>"
      ]
     },
     "metadata": {},
     "output_type": "display_data"
    }
   ],
   "source": [
    "train_scores, val_scores = validation_curve(\n",
    "    LogisticRegression(penalty=\"l1\", solver=\"liblinear\"), \n",
    "    X_train, y_train, param_name=\"C\", param_range=hyperparameters_list, \n",
    "    scoring=\"balanced_accuracy\", cv=ShuffleSplit(n_splits=5, test_size=0.33))\n",
    "\n",
    "plt.figure(figsize=(7, 3))\n",
    "plt.plot(hyperparameters_list, train_scores.mean(axis=1), label=\"Train\")\n",
    "plt.plot(hyperparameters_list, val_scores.mean(axis=1), label=\"Validation\")\n",
    "plt.title(\"Validation curve\")\n",
    "plt.xlabel(\"Hyperparameter C\")\n",
    "plt.ylabel(\"Balanced acuracy\")\n",
    "plt.legend()\n",
    "plt.show()"
   ]
  },
  {
   "cell_type": "markdown",
   "id": "e29aec11-c3a5-45cd-9871-cdf23de02696",
   "metadata": {},
   "source": [
    "Функція `validation_curve` допомагає в оцінці навчальної та перехресної перевірки для підбору гіперпараметрів моделі. Основна ідея полягає в тому, що вона автоматично обчислює значення показника якості моделі для різних значень гіперпараметра, а потім візуалізує ці результати.\n",
    "\n",
    "Функція будує модель для кожного значення гіперпараметра, використовуючи перехресну перевірку (cross-validation) для оцінки якості. Для кожного значення гіперпараметра вона обчислює середнє значення показника якості (наприклад, середню помилку або середню точність) на навчальному наборі та перевірочному наборі для кожного згортання перехресної перевірки. Потім вона усереднює ці значення по всіх згортках, щоб отримати кінцевий результат для кожного значення гіперпараметра.\n",
    "\n",
    "В цій роботі в якості в якості показника якості `scoring` використано `balanced accuracy`.\n",
    "\n",
    "Щодо аргументу `cv` , він вказує на кількість згорток, що будуть використані для перехресної перевірки. В ротобі використано стратегії `KFold` та `ShuffleSplit`.\n",
    "\n",
    "У крос-валідації зі стратегією `KFold` дані розбиваються на k груп, але кожна група використовується як навчальний та валідаційний набір однакову кількість разів. Це дозволяє кожен раз використовувати різні частини даних для оцінки моделі\n",
    "\n",
    "Стратегія `ShuffleSplit` випадковим чином розділяє дані на навчальні та валідаційні набори. "
   ]
  },
  {
   "cell_type": "markdown",
   "id": "ab773ba4-a1bc-476d-9823-807d06318c7c",
   "metadata": {},
   "source": [
    "За допомгою класу `RandomizedSearchCV` автоматично підібрано гіперпараметри."
   ]
  },
  {
   "cell_type": "code",
   "execution_count": 20,
   "id": "71bbff0b-d243-4ff7-b791-fe2d99bce810",
   "metadata": {},
   "outputs": [
    {
     "name": "stdout",
     "output_type": "stream",
     "text": [
      "Best hyperparameter value wtih RandomizedSearchCV: 0.8\n",
      "Balanced acuracy: 0.7686272181741622\n"
     ]
    }
   ],
   "source": [
    "random_search = RandomizedSearchCV(LogisticRegression(penalty=\"l1\", solver=\"liblinear\"), hyperparameters_dict, scoring=\"balanced_accuracy\", cv=5)\n",
    "random_search.fit(X_train, y_train)\n",
    "\n",
    "best_C_rand = random_search.best_params_[\"C\"]\n",
    "best_accuracy_rand = random_search.best_score_\n",
    "\n",
    "print(\"Best hyperparameter value wtih RandomizedSearchCV:\", best_C_rand)\n",
    "print(\"Balanced acuracy:\", best_accuracy_rand)"
   ]
  },
  {
   "cell_type": "markdown",
   "id": "6f7a936e-340d-4c23-9811-69d3e51570f3",
   "metadata": {},
   "source": [
    "За допомгою класу `GridSearchCV` автоматично підібрано гіперпараметри."
   ]
  },
  {
   "cell_type": "code",
   "execution_count": 21,
   "id": "e9ed428d-2561-4036-9a39-96d52bde0c1f",
   "metadata": {},
   "outputs": [
    {
     "name": "stdout",
     "output_type": "stream",
     "text": [
      "Best hyperparameter value wtih GridSearchCV: 40.0\n",
      "Balanced acuracy: 0.7691815659187518\n"
     ]
    }
   ],
   "source": [
    "grid_search = GridSearchCV(LogisticRegression(penalty=\"l1\", solver=\"liblinear\"), hyperparameters_dict, scoring=\"balanced_accuracy\", cv=5)\n",
    "grid_search.fit(X_train, y_train)\n",
    "\n",
    "best_C_grid = grid_search.best_params_[\"C\"]\n",
    "best_accuracy_grid = grid_search.best_score_\n",
    "\n",
    "print(\"Best hyperparameter value wtih GridSearchCV:\", best_C_grid)\n",
    "print(\"Balanced acuracy:\", best_accuracy_grid)"
   ]
  },
  {
   "cell_type": "markdown",
   "id": "5e2ca7b1-337a-41f6-9ba7-a6269fd53fb3",
   "metadata": {},
   "source": [
    "В якості показника якості `scoring`, як і до цього, використано `balanced accuracy`, а значення аргументу `cv` вибрано 5, що означає, що дані розділені на 5 частин, і кожен екземпляр моделі буде тренуватися 5 разів: 4 рази на частках навчального набору і 1 раз на тестовій частці."
   ]
  },
  {
   "cell_type": "markdown",
   "id": "7f3051bb-57eb-4d48-b695-b566d8293a6e",
   "metadata": {},
   "source": [
    "#### **Завданння 8. Для логістичної регресії з підібраним гіперпараметром розрахуйте метрики якості на навчальній та тестовій частинах.**"
   ]
  },
  {
   "cell_type": "markdown",
   "id": "a1fed2a0-e5ca-4a8b-88aa-42a5e4e43871",
   "metadata": {},
   "source": [
    "Побудовано логістичну регресію з регуляризацією L1 і гіперпараметром С, який був отрманий раніше за допомгою класу `GridSearchCV`."
   ]
  },
  {
   "cell_type": "code",
   "execution_count": 22,
   "id": "f62deb30-ea5e-48d0-a540-cd1e1d4a6a47",
   "metadata": {},
   "outputs": [],
   "source": [
    "log_reg_l1= LogisticRegression(penalty=\"l1\", solver=\"liblinear\", C=best_C_grid)\n",
    "log_reg_l1.fit(X_train, y_train)\n",
    "y_pred_train = log_reg_l1.predict(X_train)\n",
    "y_pred_test = log_reg_l1.predict(X_test)"
   ]
  },
  {
   "cell_type": "markdown",
   "id": "bdb623c2-50cc-4b9c-9fd5-63908d6be154",
   "metadata": {},
   "source": [
    "Розраховано метрики якості на навчальній частині"
   ]
  },
  {
   "cell_type": "code",
   "execution_count": 23,
   "id": "253f896e-13e3-4339-a93b-8ddcd6625569",
   "metadata": {},
   "outputs": [
    {
     "name": "stdout",
     "output_type": "stream",
     "text": [
      "Train balanced accuracy: 0.767751020873379\n",
      "Train recall: [0.92979801 0.60570403]\n",
      "Train precision: [0.87727357 0.74000975]\n",
      "Train confusion matrix:\n",
      " [[14132  1067]\n",
      " [ 1977  3037]]\n"
     ]
    }
   ],
   "source": [
    "print(f\"Train balanced accuracy: {balanced_accuracy_score(y_train, y_pred_train)}\")\n",
    "print(f\"Train recall: {recall_score(y_train, y_pred_train, average=None)}\")\n",
    "print(f\"Train precision: {precision_score(y_train, y_pred_train, average=None)}\")\n",
    "print(f\"Train confusion matrix:\\n {confusion_matrix(y_train, y_pred_train)}\")"
   ]
  },
  {
   "cell_type": "markdown",
   "id": "6964271b-d325-4a1a-a1fa-ca928ef0299d",
   "metadata": {},
   "source": [
    "Розраховано метрики якості на тестовій частині"
   ]
  },
  {
   "cell_type": "code",
   "execution_count": 24,
   "id": "af0819e1-e02a-49b1-8f21-eb793bbf9bc4",
   "metadata": {},
   "outputs": [
    {
     "name": "stdout",
     "output_type": "stream",
     "text": [
      "Test balanced accuracy: 0.7639980552629446\n",
      "Test recall: [0.92334495 0.60465116]\n",
      "Test precision: [0.87480955 0.725     ]\n",
      "Test confusion matrix:\n",
      " [[6890  572]\n",
      " [ 986 1508]]\n"
     ]
    }
   ],
   "source": [
    "print(f\"Test balanced accuracy: {balanced_accuracy_score(y_test, y_pred_test)}\")\n",
    "print(f\"Test recall: {recall_score(y_test, y_pred_test, average=None)}\")\n",
    "print(f\"Test precision: {precision_score(y_test, y_pred_test, average=None)}\")\n",
    "print(f\"Test confusion matrix:\\n {confusion_matrix(y_test, y_pred_test)}\")"
   ]
  },
  {
   "cell_type": "markdown",
   "id": "45289ca4-9bed-4614-9fcb-812062ea3c04",
   "metadata": {},
   "source": [
    "Після застосування L1 регуляризації та підбору гіперпараметра C модель значно покращилась. Ми спостерігаємо підвищення `balanced accuracy` на обох навчальній і тестовій вибірках, що свідчить про її здатність краще узагальнювати нові дані. Крім того, модель стала краще розпізнавати обидва класи, що підтверджується поліпшенням метрик `precision` та `recall`. Ці покращення роблять модель більш надійною та придатною для практичного використання."
   ]
  },
  {
   "cell_type": "markdown",
   "id": "440171c3-318a-4ce8-ba83-2a5f752d39d2",
   "metadata": {},
   "source": [
    "#### **Завданння 9. Спробуйте зробити вибір інформативних показників для логістичної регресії, навчити модель на основі лише відібраних показників і оцінити її якість.**"
   ]
  },
  {
   "cell_type": "markdown",
   "id": "0f3fbe78-3eca-4fd7-bb14-24291c213dff",
   "metadata": {},
   "source": [
    "Імпортовано набір даних \"adult\"."
   ]
  },
  {
   "cell_type": "code",
   "execution_count": 25,
   "id": "00bbd059-e454-40c9-a8bb-fbbf23a80dee",
   "metadata": {},
   "outputs": [],
   "source": [
    "df2 = pd.read_csv(\"adult/adult.data\", sep=\", \", na_values=\"?\", engine=\"python\",\n",
    "                 names=[\"age\", \"workclass\", \"fnlwgt\", \"education\", \"education_num\", \"marital_status\", \"occupation\", \"relationship\", \"race\", \"sex\", \"capital_gain\", \"capital_loss\", \"hours_per_week\", \"native_country\", \"gross_income\"])"
   ]
  },
  {
   "cell_type": "markdown",
   "id": "9097691c-9e62-4c23-bd22-b90a69cffcdc",
   "metadata": {},
   "source": [
    "Проведено попередню обробку даних і видалено  не інформативні показники."
   ]
  },
  {
   "cell_type": "code",
   "execution_count": 26,
   "id": "56069180-ff92-49c9-a65b-86697c8d449f",
   "metadata": {},
   "outputs": [],
   "source": [
    "df2.dropna(subset=[\"workclass\", \"native_country\"], inplace=True)\n",
    "df2[\"occupation\"].fillna(df2[\"occupation\"].mode()[0], inplace=True)\n",
    "df2['native_country'] = df2['native_country'].map(lambda x: True if x == 'United-States' else False)\n",
    "df2.rename(columns={'native_country': 'united_states'}, inplace=True)\n",
    "df2.drop(columns=[\"education\", \"race\", \"sex\", \"marital_status\"], inplace=True)\n",
    "for column in [\"workclass\", \"occupation\", \"relationship\"]:\n",
    "    df2 = pd.get_dummies(df2, columns=[column], drop_first=True)"
   ]
  },
  {
   "cell_type": "markdown",
   "id": "a8d30572-0bd8-4320-b565-ddb689df30eb",
   "metadata": {},
   "source": [
    "Розбито нову тестову і навчальну вибірку, та на навчальній вибірці навчено модель логістичної регрсеії з регуляризацією L1. Відмінність цієї моделі ві дповпередньої в тому, що класи, які подаються в модель збалансовані."
   ]
  },
  {
   "cell_type": "code",
   "execution_count": 27,
   "id": "13649b96-34da-43e4-8e33-d811e820c32d",
   "metadata": {},
   "outputs": [],
   "source": [
    "X2 = df2.loc[:, df2.columns != 'gross_income']\n",
    "y2 = df2[\"gross_income\"]\n",
    "X_train2, X_test2, y_train2, y_test2 = train_test_split(X2, y2, test_size=0.33)\n",
    "log_reg_l1B= LogisticRegression(penalty=\"l1\", solver=\"liblinear\", C=best_C_grid, class_weight='balanced')\n",
    "log_reg_l1B.fit(X_train2, y_train2)\n",
    "y_pred_train = log_reg_l1B.predict(X_train2)\n",
    "y_pred_test = log_reg_l1B.predict(X_test2)"
   ]
  },
  {
   "cell_type": "markdown",
   "id": "6de13dbf-4a37-4789-a8ca-617ef5f94a14",
   "metadata": {},
   "source": [
    "Розраховано метрики якості на навчальній частині.\n"
   ]
  },
  {
   "cell_type": "code",
   "execution_count": 28,
   "id": "ede19ac2-1b94-4872-b81e-cb592d67e592",
   "metadata": {},
   "outputs": [
    {
     "name": "stdout",
     "output_type": "stream",
     "text": [
      "Train balanced accuracy: 0.8226943781482439\n",
      "Train recall: [0.80311494 0.84227382]\n",
      "Train precision: [0.93942655 0.58411993]\n",
      "Train confusion matrix:\n",
      " [[12221  2996]\n",
      " [  788  4208]]\n"
     ]
    }
   ],
   "source": [
    "print(f\"Train balanced accuracy: {balanced_accuracy_score(y_train2, y_pred_train)}\")\n",
    "print(f\"Train recall: {recall_score(y_train2, y_pred_train, average=None)}\")\n",
    "print(f\"Train precision: {precision_score(y_train2, y_pred_train, average=None)}\")\n",
    "print(f\"Train confusion matrix:\\n {confusion_matrix(y_train2, y_pred_train)}\")"
   ]
  },
  {
   "cell_type": "markdown",
   "id": "0be8f792-02c6-4fe3-affb-697a75d9431d",
   "metadata": {},
   "source": [
    "Розраховано метрики якості на тестовій частині."
   ]
  },
  {
   "cell_type": "code",
   "execution_count": 29,
   "id": "4f90d5cc-cbdd-4ba4-b504-48fe3df1b1ee",
   "metadata": {},
   "outputs": [
    {
     "name": "stdout",
     "output_type": "stream",
     "text": [
      "Test balanced accuracy: 0.8126239616739168\n",
      "Test recall: [0.79204729 0.83320064]\n",
      "Test precision: [0.93365004 0.57484208]\n",
      "Test confusion matrix:\n",
      " [[5896 1548]\n",
      " [ 419 2093]]\n"
     ]
    }
   ],
   "source": [
    "print(f\"Test balanced accuracy: {balanced_accuracy_score(y_test2, y_pred_test)}\")\n",
    "print(f\"Test recall: {recall_score(y_test2, y_pred_test, average=None)}\")\n",
    "print(f\"Test precision: {precision_score(y_test2, y_pred_test, average=None)}\")\n",
    "print(f\"Test confusion matrix:\\n {confusion_matrix(y_test2, y_pred_test)}\")"
   ]
  },
  {
   "cell_type": "markdown",
   "id": "9555b2eb-daee-4cbb-95a3-8e126eb23eb2",
   "metadata": {},
   "source": [
    "У цьому випадку, модель логістичної регресії з регуляризацією типу L1 та збалансованою вагою класів показує досить добрі результати як на навчальних, так і на тестових даних. `Balanced acuracy`, `recall` та `precision` для обох класів є високими, що свідчить про те, що модель успішно розрізняє класи та уникнула перенавчання.\n",
    "Важливою особливістю є збалансованість класів та зменшення ознак, що позитивно впливає на уникнення перенавчання та поліпшення узагальнюючої здатності моделі. "
   ]
  },
  {
   "cell_type": "markdown",
   "id": "74dc67ca-0ac4-499a-9336-fbe276bcb93a",
   "metadata": {},
   "source": [
    "#### **Завданння 10. Спробуйте навчити ще один класифікатор, підібравши для нього оптимальні значення гіперпараметрів, і оцінити його якість.**"
   ]
  },
  {
   "cell_type": "markdown",
   "id": "066411e2-ff52-41d3-ab30-ea349212560f",
   "metadata": {},
   "source": [
    "Для коректної роботи класифікатора правила K найближчих сусідів було масштабовано кількісні ознаки до діапазону [0, 1], тому що у цьому класифікаторі розраховується відстань між ознаками. Якщо масштаби різних ознак значно різняться, то відстані будуть спотворені, і це може призвести до неправильних результатів класифікації."
   ]
  },
  {
   "cell_type": "code",
   "execution_count": 30,
   "id": "ca44538b-8ca3-4294-834b-f3f27175b3a7",
   "metadata": {},
   "outputs": [],
   "source": [
    "scaler = MinMaxScaler(feature_range=(0, 1))\n",
    "for column in [[\"age\"], [\"fnlwgt\"], [\"education_num\"], [\"capital_gain\"], [\"capital_loss\"], [\"hours_per_week\"]]:\n",
    "    df[column] = scaler.fit_transform(df[column])"
   ]
  },
  {
   "cell_type": "markdown",
   "id": "a876423a-44ed-4e99-a9f2-f983942dd178",
   "metadata": {},
   "source": [
    "За допомгою класу `GridSearchCV` було розрахавно оптимальне значення кількості сусідів."
   ]
  },
  {
   "cell_type": "code",
   "execution_count": 31,
   "id": "1dbbecc2-f3a5-4cd0-a9bc-174405b5b98e",
   "metadata": {},
   "outputs": [],
   "source": [
    "search = GridSearchCV(KNeighborsClassifier(), {\"n_neighbors\": np.concatenate((np.arange(1, 10, 1), np.arange(10, 100, 10)))}, scoring=\"balanced_accuracy\", cv=5)\n",
    "search.fit(X_train, y_train)\n",
    "\n",
    "best_n_neighbors = search.best_params_[\"n_neighbors\"]"
   ]
  },
  {
   "cell_type": "markdown",
   "id": "f29af532-01ac-41f9-84b7-fc1b3db28485",
   "metadata": {},
   "source": [
    "Навчено класифікатор правила K найближчих сусідів на навчальній вибірці."
   ]
  },
  {
   "cell_type": "code",
   "execution_count": 32,
   "id": "7308747b-000d-4c64-9b0a-917c24b6b957",
   "metadata": {},
   "outputs": [],
   "source": [
    "knn = KNeighborsClassifier(n_neighbors=best_n_neighbors)\n",
    "knn.fit(X_train, y_train)\n",
    "y_pred_train = knn.predict(X_train)\n",
    "y_pred_test = knn.predict(X_test)"
   ]
  },
  {
   "cell_type": "markdown",
   "id": "f065a4ba-1df3-478e-9d7a-4850111fcd25",
   "metadata": {},
   "source": [
    "Розраховано метрики якості на навчальній частині."
   ]
  },
  {
   "cell_type": "code",
   "execution_count": 33,
   "id": "72e680b8-35a8-489b-bd83-384c2b5fe0c2",
   "metadata": {
    "scrolled": true
   },
   "outputs": [
    {
     "name": "stdout",
     "output_type": "stream",
     "text": [
      "Train balanced accuracy: 1.0\n",
      "Train recall: [1. 1.]\n",
      "Train precision: [1. 1.]\n",
      "Train confusion matrix:\n",
      " [[15199     0]\n",
      " [    0  5014]]\n"
     ]
    }
   ],
   "source": [
    "print(f\"Train balanced accuracy: {balanced_accuracy_score(y_train, y_pred_train)}\")\n",
    "print(f\"Train recall: {recall_score(y_train, y_pred_train, average=None)}\")\n",
    "print(f\"Train precision: {precision_score(y_train, y_pred_train, average=None)}\")\n",
    "print(f\"Train confusion matrix:\\n {confusion_matrix(y_train, y_pred_train)}\")"
   ]
  },
  {
   "cell_type": "markdown",
   "id": "3397221d-57e5-41a9-be35-5da9da23af97",
   "metadata": {},
   "source": [
    "Розраховано метрики якості на навчальній частині."
   ]
  },
  {
   "cell_type": "code",
   "execution_count": 34,
   "id": "bd5febfa-7b84-45d5-bb54-40b9ab8b34cc",
   "metadata": {
    "scrolled": true
   },
   "outputs": [
    {
     "name": "stdout",
     "output_type": "stream",
     "text": [
      "Test balanced accuracy: 0.6323276641210414\n",
      "Test recall: [0.8075583  0.45709703]\n",
      "Test precision: [0.81653117 0.44254658]\n",
      "Test confusion matrix:\n",
      " [[6026 1436]\n",
      " [1354 1140]]\n"
     ]
    }
   ],
   "source": [
    "print(f\"Test balanced accuracy: {balanced_accuracy_score(y_test, y_pred_test)}\")\n",
    "print(f\"Test recall: {recall_score(y_test, y_pred_test, average=None)}\")\n",
    "print(f\"Test precision: {precision_score(y_test, y_pred_test, average=None)}\")\n",
    "print(f\"Test confusion matrix:\\n {confusion_matrix(y_test, y_pred_test)}\")"
   ]
  },
  {
   "cell_type": "markdown",
   "id": "467bb37a-7487-443a-b0bd-7ba5aed47b71",
   "metadata": {},
   "source": [
    "За наведеними метриками, ця модель демонструє менш задовільні результати у порівнянні з попередніми моделями. `Balanced acuracy` на тестовій вибірці є нижчою, що вказує на менш ефективну здатність моделі розрізняти між класами на нових даних. `Recall` для другого класу є вкрай низькою, що свідчить про те, що модель погано впоралася з ідентифікацією цього класу. `Precision` для обох класів також низька, особливо для другого класу. "
   ]
  },
  {
   "cell_type": "markdown",
   "id": "944263fa-75df-40bc-b25b-7428c7d64481",
   "metadata": {},
   "source": [
    "#### **Завданння 11. Порівняйте якість навчених класифікаторів на тестовій частині. Який класифікатор є якіснішим?**"
   ]
  },
  {
   "cell_type": "markdown",
   "id": "4e8724ad-9789-421a-98fb-edb6d80f162f",
   "metadata": {},
   "source": [
    "Створено функцію для тестування моделі."
   ]
  },
  {
   "cell_type": "code",
   "execution_count": 35,
   "id": "09becbca-5487-4bee-87ca-434e50d64556",
   "metadata": {},
   "outputs": [],
   "source": [
    "def estimate_clf(clf, X_train, X_test, y_train, y_test):\n",
    "    clf.fit(X_train, y_train)\n",
    "    y_pred_test = clf.predict(X_test)\n",
    "    print(f\"Test balanced accuracy: {balanced_accuracy_score(y_test, y_pred_test)}\")\n",
    "    print(f\"Test recall: {recall_score(y_test, y_pred_test, average=None)}\")\n",
    "    print(f\"Test precision: {precision_score(y_test, y_pred_test, average=None)}\")\n",
    "    print(f\"Test confusion matrix:\\n {confusion_matrix(y_test, y_pred_test)} \\n\\n\")"
   ]
  },
  {
   "cell_type": "markdown",
   "id": "d0c5f038-3d7c-4d16-a29a-ecacf040fbde",
   "metadata": {},
   "source": [
    "Всі моделі було навчено, ще раз на новій вибірці даних, і також були виведені метрики якості для кожної моделі."
   ]
  },
  {
   "cell_type": "code",
   "execution_count": 36,
   "id": "25e12a29-0260-4f46-96a4-05afa26e6df1",
   "metadata": {
    "scrolled": true
   },
   "outputs": [
    {
     "name": "stdout",
     "output_type": "stream",
     "text": [
      "Logistic Regression:\n",
      "Test balanced accuracy: 0.6132517559508618\n",
      "Test recall: [0.96558215 0.26092137]\n",
      "Test precision: [0.79420546 0.7196057 ]\n",
      "Test confusion matrix:\n",
      " [[7182  256]\n",
      " [1861  657]] \n",
      "\n",
      "\n",
      "Logistic Regression L1:\n",
      "Test balanced accuracy: 0.7666602558913815\n",
      "Test recall: [0.9284754  0.60484512]\n",
      "Test precision: [0.87406657 0.74111922]\n",
      "Test confusion matrix:\n",
      " [[6906  532]\n",
      " [ 995 1523]] \n",
      "\n",
      "\n",
      "Logistic Regression L1 with balanced classes:\n",
      "Test balanced accuracy: 0.818797211836007\n",
      "Test recall: [0.79645066 0.84114376]\n",
      "Test precision: [0.93674889 0.58314978]\n",
      "Test confusion matrix:\n",
      " [[5924 1514]\n",
      " [ 400 2118]] \n",
      "\n",
      "\n",
      "kNN:\n",
      "Test balanced accuracy: 0.6239706007042385\n",
      "Test recall: [0.80989513 0.43804607]\n",
      "Test precision: [0.80978626 0.4382201 ]\n",
      "Test confusion matrix:\n",
      " [[6024 1414]\n",
      " [1415 1103]] \n",
      "\n",
      "\n"
     ]
    }
   ],
   "source": [
    "X_train, X_test, y_train, y_test = train_test_split(X, y, test_size=0.33)\n",
    "print(\"Logistic Regression:\")\n",
    "estimate_clf(log_reg, X_train, X_test, y_train, y_test)\n",
    "print(\"Logistic Regression L1:\")\n",
    "estimate_clf(log_reg_l1, X_train, X_test, y_train, y_test)\n",
    "print(\"Logistic Regression L1 with balanced classes:\")\n",
    "estimate_clf(log_reg_l1B, X_train, X_test, y_train, y_test)\n",
    "print(\"kNN:\")\n",
    "estimate_clf(knn, X_train, X_test, y_train, y_test)"
   ]
  },
  {
   "cell_type": "markdown",
   "id": "69efce31-b9a4-4ead-be35-dc04345f7707",
   "metadata": {},
   "source": [
    "Порівнюючи якість класифікаторів на тестовій частині, можна зазначити, що логістична регресія L1 з використанням збалансованих класів видається найкращою серед наведених моделей. Вона досягає найвищого рівня збалансованої точності та забезпечує гарні показники як для точності, так і для повноти обох класів. Ця модель демонструє спроможність правильно класифікувати дані з високою точністю, враховуючи важливість уникнення як помилок першого, так і другого роду."
   ]
  }
 ],
 "metadata": {
  "kernelspec": {
   "display_name": "Python 3 (ipykernel)",
   "language": "python",
   "name": "python3"
  },
  "language_info": {
   "codemirror_mode": {
    "name": "ipython",
    "version": 3
   },
   "file_extension": ".py",
   "mimetype": "text/x-python",
   "name": "python",
   "nbconvert_exporter": "python",
   "pygments_lexer": "ipython3",
   "version": "3.11.7"
  }
 },
 "nbformat": 4,
 "nbformat_minor": 5
}
