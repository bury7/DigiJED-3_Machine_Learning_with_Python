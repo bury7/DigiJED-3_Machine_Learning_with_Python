{
 "cells": [
  {
   "cell_type": "markdown",
   "id": "a657f770-4ac7-4636-9427-9c785cc1f9d6",
   "metadata": {},
   "source": [
    "\n",
    "<center>\n",
    "    \n",
    "## **Laboratory work № 2**\n",
    "#### **Done by: Nizhivenko A. D.**\n",
    "### **Topic: The classification problem**\n",
    "    \n",
    "</center>\n",
    "\n",
    "#### **Aims**: to get acquainted with the task of data classification, to master the process of training classifiers and evaluating their quality, to explore the capabilities of the scikit-learn library for this purpose.\n",
    "   \n",
    "<center>\n",
    "    \n",
    "### **Progress**\n",
    "\n",
    "</center>\n",
    "\n"
   ]
  },
  {
   "cell_type": "markdown",
   "id": "6a143616-0c38-4207-89c1-e0e704f286dc",
   "metadata": {},
   "source": [
    "#### **Task 1. Prepare the dataset so that there are no gaps and the qualitative indicators are binarized or recoded.**"
   ]
  },
  {
   "cell_type": "markdown",
   "id": "ee41c9e2-0cfb-4ad6-a20d-85d2b26377ef",
   "metadata": {},
   "source": [
    "Imported libraries are needed when performing laboratory work."
   ]
  },
  {
   "cell_type": "code",
   "execution_count": 1,
   "id": "229cd354-2fad-4dca-9743-8d7e132978c5",
   "metadata": {},
   "outputs": [],
   "source": [
    "import numpy as np\n",
    "import pandas as pd\n",
    "import matplotlib.pyplot as plt\n",
    "\n",
    "from sklearn.metrics import confusion_matrix, balanced_accuracy_score, recall_score, precision_score\n",
    "from sklearn.model_selection import train_test_split, validation_curve, ShuffleSplit, KFold, GridSearchCV, RandomizedSearchCV\n",
    "from sklearn.preprocessing import MinMaxScaler\n",
    "\n",
    "from sklearn.linear_model import LogisticRegression\n",
    "from sklearn.neighbors import KNeighborsClassifier"
   ]
  },
  {
   "cell_type": "markdown",
   "id": "cf20cee8-9bed-4d34-80cb-0dc19f87f298",
   "metadata": {},
   "source": [
    "The \"adult\" dataset was successfully loaded into the DataFrame using the `read_csv` function."
   ]
  },
  {
   "cell_type": "code",
   "execution_count": 2,
   "id": "7140eca8-fa4f-4ce6-8cb4-38ddf5e99727",
   "metadata": {},
   "outputs": [],
   "source": [
    "df = pd.read_csv(\"adult/adult.data\", sep=\", \", na_values=\"?\", engine=\"python\",\n",
    "                 names=[\"age\", \"workclass\", \"fnlwgt\", \"education\", \"education_num\", \"marital_status\", \"occupation\", \"relationship\", \"race\", \"sex\", \"capital_gain\", \"capital_loss\", \"hours_per_week\", \"native_country\", \"gross_income\"])"
   ]
  },
  {
   "cell_type": "markdown",
   "id": "cbbd4fcc-1723-4b11-9057-197fb72764f1",
   "metadata": {},
   "source": [
    "Using the `dropna()` and `fillna()` methods, the gaps are processed."
   ]
  },
  {
   "cell_type": "code",
   "execution_count": 3,
   "id": "44cec44d-3b1a-4f70-a6bf-c67c229e8d9d",
   "metadata": {},
   "outputs": [],
   "source": [
    "df.dropna(subset=[\"workclass\", \"native_country\"], inplace=True)\n",
    "df[\"occupation\"].fillna(df[\"occupation\"].mode()[0], inplace=True)"
   ]
  },
  {
   "cell_type": "markdown",
   "id": "14f12816-c1fe-438e-a953-b2f4e1f4a9eb",
   "metadata": {},
   "source": [
    "Converted all qualitative features into a set of binary features using the `get_dummies()` function and the `map()` method."
   ]
  },
  {
   "cell_type": "code",
   "execution_count": 4,
   "id": "cd1226b2-2af6-4289-8dd9-2777eada43ce",
   "metadata": {},
   "outputs": [],
   "source": [
    "for column in [\"workclass\", \"marital_status\", \"occupation\", \"relationship\", \"race\", \"sex\"]:\n",
    "    df = pd.get_dummies(df, columns=[column], drop_first=True)\n",
    "df['native_country'] = df['native_country'].map(lambda x: True if x == 'United-States' else False)\n",
    "df.rename(columns={'native_country': 'united_states'}, inplace=True)"
   ]
  },
  {
   "cell_type": "markdown",
   "id": "892011c6-c37e-41a9-a660-be24549e45f3",
   "metadata": {},
   "source": [
    "The `education` feature is removed from the feature set, because information about the educational level is already presented in the `education_num` column."
   ]
  },
  {
   "cell_type": "code",
   "execution_count": 5,
   "id": "92f35dd7-5f43-47ea-a899-5741c9c6f78c",
   "metadata": {},
   "outputs": [],
   "source": [
    "df.drop(columns=[\"education\"], inplace=True)"
   ]
  },
  {
   "cell_type": "markdown",
   "id": "67409631-d3bf-424a-be8a-25d2419232cb",
   "metadata": {},
   "source": [
    "#### **Task 2: Check if the classes are balanced.**"
   ]
  },
  {
   "cell_type": "markdown",
   "id": "91448a49-b041-46e8-92be-003b121934e2",
   "metadata": {},
   "source": [
    "The balance of classes is checked using the `value_counts()` method and the information is presented in the form of a diagram using `matplotlib.pyplot`. After analyzing the information received, you can see that the classes are unbalanced and the class `<=50K` prevails in the DataFrame."
   ]
  },
  {
   "cell_type": "code",
   "execution_count": 6,
   "id": "4ba9dda6-35ab-4303-8818-18550a0a2e5e",
   "metadata": {},
   "outputs": [
    {
     "name": "stdout",
     "output_type": "stream",
     "text": [
      "gross_income\n",
      "<=50K    22661\n",
      ">50K      7508\n",
      "Name: count, dtype: int64\n"
     ]
    }
   ],
   "source": [
    "class_counts = df[\"gross_income\"].value_counts()\n",
    "print(class_counts)"
   ]
  },
  {
   "cell_type": "code",
   "execution_count": 7,
   "id": "c8acf0ca-0b27-42e9-8e31-d655c0630412",
   "metadata": {},
   "outputs": [
    {
     "data": {
      "image/png": "[encoded data removed]",
      "text/plain": [
       "<Figure size 300x300 with 1 Axes>"
      ]
     },
     "metadata": {},
     "output_type": "display_data"
    }
   ],
   "source": [
    "plt.figure(figsize=(3, 3))\n",
    "class_counts.plot(kind=\"bar\", color=\"gray\")\n",
    "plt.title(\"Distribution of classes\")\n",
    "plt.ylabel(\"Amount\")\n",
    "plt.xlabel(\"Target feature\")\n",
    "plt.show()"
   ]
  },
  {
   "cell_type": "markdown",
   "id": "6fbf156f-727b-4b58-b5f1-ccece4a430bc",
   "metadata": {},
   "source": [
    "#### **Task 3. Select a metric (or several metrics) that you will use to evaluate the quality of the classification.**"
   ]
  },
  {
   "cell_type": "markdown",
   "id": "79629669-8efb-43c9-959f-b330cf4d07c4",
   "metadata": {},
   "source": [
    "Since we use a dataset in which the classes are unbalanced, we chose quality metrics that are insensitive to class imbalance, namely, we chose `Confusion matrix` (a table showing the number of correct and incorrect predictions made by the classification model based on the test dataset. ), `Balanced accuracy` (the arithmetic mean of correctly classified objects of each class), `Recall` (the share of correctly classified objects of a certain class) and `Precision` (the share of objects of a certain class among the objects that the classifier has assigned to this class)."
   ]
  },
  {
   "cell_type": "markdown",
   "id": "51d23c7b-ec52-4c3a-a793-e9f8c1f9c943",
   "metadata": {},
   "source": [
    "#### **Task 4. Divide the dataset into 2 samples: training and test.**\n"
   ]
  },
  {
   "cell_type": "markdown",
   "id": "5e34c5bd-f20a-4220-877d-ddb7431ec445",
   "metadata": {},
   "source": [
    "The sample was split into test and training samples using the `train_test_split` function."
   ]
  },
  {
   "cell_type": "code",
   "execution_count": 8,
   "id": "f275206a-c4e1-484d-a555-f32113191fac",
   "metadata": {},
   "outputs": [],
   "source": [
    "X = df.loc[:, df.columns != 'gross_income']\n",
    "y = df[\"gross_income\"]"
   ]
  },
  {
   "cell_type": "code",
   "execution_count": 9,
   "id": "00c6d2ec-f9b2-4229-8dca-236d4639a1f8",
   "metadata": {},
   "outputs": [],
   "source": [
    "X_train, X_test, y_train, y_test = train_test_split(X, y, test_size=0.33)"
   ]
  },
  {
   "cell_type": "code",
   "execution_count": 10,
   "id": "ffe05c55-acb4-45ca-94d3-9bfc43101126",
   "metadata": {},
   "outputs": [
    {
     "data": {
      "text/html": [
       "<div>\n",
       "<style scoped>\n",
       "    .dataframe tbody tr th:only-of-type {\n",
       "        vertical-align: middle;\n",
       "    }\n",
       "\n",
       "    .dataframe tbody tr th {\n",
       "        vertical-align: top;\n",
       "    }\n",
       "\n",
       "    .dataframe thead th {\n",
       "        text-align: right;\n",
       "    }\n",
       "</style>\n",
       "<table border=\"1\" class=\"dataframe\">\n",
       "  <thead>\n",
       "    <tr style=\"text-align: right;\">\n",
       "      <th></th>\n",
       "      <th>age</th>\n",
       "      <th>fnlwgt</th>\n",
       "      <th>education_num</th>\n",
       "      <th>capital_gain</th>\n",
       "      <th>capital_loss</th>\n",
       "      <th>hours_per_week</th>\n",
       "      <th>united_states</th>\n",
       "      <th>workclass_Local-gov</th>\n",
       "      <th>workclass_Never-worked</th>\n",
       "      <th>workclass_Private</th>\n",
       "      <th>...</th>\n",
       "      <th>relationship_Not-in-family</th>\n",
       "      <th>relationship_Other-relative</th>\n",
       "      <th>relationship_Own-child</th>\n",
       "      <th>relationship_Unmarried</th>\n",
       "      <th>relationship_Wife</th>\n",
       "      <th>race_Asian-Pac-Islander</th>\n",
       "      <th>race_Black</th>\n",
       "      <th>race_Other</th>\n",
       "      <th>race_White</th>\n",
       "      <th>sex_Male</th>\n",
       "    </tr>\n",
       "  </thead>\n",
       "  <tbody>\n",
       "    <tr>\n",
       "      <th>28393</th>\n",
       "      <td>35</td>\n",
       "      <td>35945</td>\n",
       "      <td>13</td>\n",
       "      <td>0</td>\n",
       "      <td>0</td>\n",
       "      <td>40</td>\n",
       "      <td>True</td>\n",
       "      <td>False</td>\n",
       "      <td>False</td>\n",
       "      <td>True</td>\n",
       "      <td>...</td>\n",
       "      <td>False</td>\n",
       "      <td>False</td>\n",
       "      <td>False</td>\n",
       "      <td>False</td>\n",
       "      <td>False</td>\n",
       "      <td>False</td>\n",
       "      <td>False</td>\n",
       "      <td>False</td>\n",
       "      <td>True</td>\n",
       "      <td>True</td>\n",
       "    </tr>\n",
       "    <tr>\n",
       "      <th>26870</th>\n",
       "      <td>38</td>\n",
       "      <td>179488</td>\n",
       "      <td>12</td>\n",
       "      <td>0</td>\n",
       "      <td>0</td>\n",
       "      <td>40</td>\n",
       "      <td>True</td>\n",
       "      <td>False</td>\n",
       "      <td>False</td>\n",
       "      <td>True</td>\n",
       "      <td>...</td>\n",
       "      <td>True</td>\n",
       "      <td>False</td>\n",
       "      <td>False</td>\n",
       "      <td>False</td>\n",
       "      <td>False</td>\n",
       "      <td>False</td>\n",
       "      <td>False</td>\n",
       "      <td>False</td>\n",
       "      <td>True</td>\n",
       "      <td>True</td>\n",
       "    </tr>\n",
       "    <tr>\n",
       "      <th>18945</th>\n",
       "      <td>20</td>\n",
       "      <td>201799</td>\n",
       "      <td>10</td>\n",
       "      <td>0</td>\n",
       "      <td>0</td>\n",
       "      <td>13</td>\n",
       "      <td>True</td>\n",
       "      <td>False</td>\n",
       "      <td>False</td>\n",
       "      <td>True</td>\n",
       "      <td>...</td>\n",
       "      <td>False</td>\n",
       "      <td>False</td>\n",
       "      <td>True</td>\n",
       "      <td>False</td>\n",
       "      <td>False</td>\n",
       "      <td>False</td>\n",
       "      <td>False</td>\n",
       "      <td>False</td>\n",
       "      <td>True</td>\n",
       "      <td>False</td>\n",
       "    </tr>\n",
       "    <tr>\n",
       "      <th>18553</th>\n",
       "      <td>41</td>\n",
       "      <td>297186</td>\n",
       "      <td>9</td>\n",
       "      <td>0</td>\n",
       "      <td>0</td>\n",
       "      <td>40</td>\n",
       "      <td>True</td>\n",
       "      <td>False</td>\n",
       "      <td>False</td>\n",
       "      <td>True</td>\n",
       "      <td>...</td>\n",
       "      <td>False</td>\n",
       "      <td>False</td>\n",
       "      <td>False</td>\n",
       "      <td>False</td>\n",
       "      <td>True</td>\n",
       "      <td>False</td>\n",
       "      <td>False</td>\n",
       "      <td>False</td>\n",
       "      <td>True</td>\n",
       "      <td>False</td>\n",
       "    </tr>\n",
       "    <tr>\n",
       "      <th>18719</th>\n",
       "      <td>32</td>\n",
       "      <td>100135</td>\n",
       "      <td>9</td>\n",
       "      <td>0</td>\n",
       "      <td>0</td>\n",
       "      <td>40</td>\n",
       "      <td>True</td>\n",
       "      <td>True</td>\n",
       "      <td>False</td>\n",
       "      <td>False</td>\n",
       "      <td>...</td>\n",
       "      <td>False</td>\n",
       "      <td>False</td>\n",
       "      <td>False</td>\n",
       "      <td>True</td>\n",
       "      <td>False</td>\n",
       "      <td>False</td>\n",
       "      <td>False</td>\n",
       "      <td>False</td>\n",
       "      <td>True</td>\n",
       "      <td>False</td>\n",
       "    </tr>\n",
       "  </tbody>\n",
       "</table>\n",
       "<p>5 rows × 43 columns</p>\n",
       "</div>"
      ],
      "text/plain": [
       "       age  fnlwgt  education_num  capital_gain  capital_loss  hours_per_week  \\\n",
       "28393   35   35945             13             0             0              40   \n",
       "26870   38  179488             12             0             0              40   \n",
       "18945   20  201799             10             0             0              13   \n",
       "18553   41  297186              9             0             0              40   \n",
       "18719   32  100135              9             0             0              40   \n",
       "\n",
       "       united_states  workclass_Local-gov  workclass_Never-worked  \\\n",
       "28393           True                False                   False   \n",
       "26870           True                False                   False   \n",
       "18945           True                False                   False   \n",
       "18553           True                False                   False   \n",
       "18719           True                 True                   False   \n",
       "\n",
       "       workclass_Private  ...  relationship_Not-in-family  \\\n",
       "28393               True  ...                       False   \n",
       "26870               True  ...                        True   \n",
       "18945               True  ...                       False   \n",
       "18553               True  ...                       False   \n",
       "18719              False  ...                       False   \n",
       "\n",
       "       relationship_Other-relative  relationship_Own-child  \\\n",
       "28393                        False                   False   \n",
       "26870                        False                   False   \n",
       "18945                        False                    True   \n",
       "18553                        False                   False   \n",
       "18719                        False                   False   \n",
       "\n",
       "       relationship_Unmarried  relationship_Wife  race_Asian-Pac-Islander  \\\n",
       "28393                   False              False                    False   \n",
       "26870                   False              False                    False   \n",
       "18945                   False              False                    False   \n",
       "18553                   False               True                    False   \n",
       "18719                    True              False                    False   \n",
       "\n",
       "       race_Black  race_Other  race_White  sex_Male  \n",
       "28393       False       False        True      True  \n",
       "26870       False       False        True      True  \n",
       "18945       False       False        True     False  \n",
       "18553       False       False        True     False  \n",
       "18719       False       False        True     False  \n",
       "\n",
       "[5 rows x 43 columns]"
      ]
     },
     "execution_count": 10,
     "metadata": {},
     "output_type": "execute_result"
    }
   ],
   "source": [
    "X_test.tail()"
   ]
  },
  {
   "cell_type": "code",
   "execution_count": 11,
   "id": "642b7011-b725-4e28-8d14-0fc390288c0e",
   "metadata": {},
   "outputs": [
    {
     "data": {
      "text/plain": [
       "28393     >50K\n",
       "26870    <=50K\n",
       "18945    <=50K\n",
       "18553    <=50K\n",
       "18719    <=50K\n",
       "Name: gross_income, dtype: object"
      ]
     },
     "execution_count": 11,
     "metadata": {},
     "output_type": "execute_result"
    }
   ],
   "source": [
    "y_test.tail()"
   ]
  },
  {
   "cell_type": "markdown",
   "id": "0dd27304-270d-4b11-8d02-8cd6d2b823bd",
   "metadata": {},
   "source": [
    "#### **Task 5. Teach the logistic regression without regularization in the training section.**"
   ]
  },
  {
   "cell_type": "markdown",
   "id": "7c5b6517-62ec-4cf5-91c1-1a30cc545b9a",
   "metadata": {},
   "source": [
    "Logistic regression without regularization is taught in the training part."
   ]
  },
  {
   "cell_type": "code",
   "execution_count": 12,
   "id": "3c6c8706-10f1-4ca6-8f2e-be0cf0df4477",
   "metadata": {},
   "outputs": [],
   "source": [
    "log_reg = LogisticRegression(penalty=None)\n",
    "log_reg.fit(X_train, y_train)\n",
    "y_pred_train = log_reg.predict(X_train)\n",
    "y_pred_test = log_reg.predict(X_test)"
   ]
  },
  {
   "cell_type": "markdown",
   "id": "7f3516e0-429f-4790-9dcc-31487566e153",
   "metadata": {},
   "source": [
    "The parameters of the resulting model are displayed.\n",
    "The parameters that have been displayed are the weights of the logistic regression model. In this model, each parameter corresponds to a coefficient before one variable in the input data. The number of parameters is equal to the number of features that were used to train the model.\n",
    "The only intercept parameter `intercept` is responsible for the offset in the model, i.e. the baseline response when all other features are equal to zero.\n",
    "Each other `coef` parameter corresponds to the coefficient before a particular feature in the dataset."
   ]
  },
  {
   "cell_type": "code",
   "execution_count": 13,
   "id": "f3f4719a-a8ba-4a8f-9bf4-18e0a4c2a358",
   "metadata": {},
   "outputs": [
    {
     "name": "stdout",
     "output_type": "stream",
     "text": [
      "[-0.0003425]\n",
      "[[-6.55891501e-03 -3.68591167e-06 -1.61936104e-03  3.30567086e-04\n",
      "   7.51818285e-04 -7.67810388e-03 -3.08000106e-04 -6.27740611e-06\n",
      "  -2.95058401e-07 -3.56173900e-04  4.21533256e-05 -2.22103808e-05\n",
      "  -9.18650152e-06 -9.53911571e-07  9.01231620e-07  3.81250139e-04\n",
      "  -1.43351410e-05 -4.66125161e-04 -3.90756930e-05 -3.66818410e-05\n",
      "  -2.07811852e-07 -5.84943495e-05  1.18582257e-04 -4.52224406e-05\n",
      "  -5.54167829e-05 -5.73187804e-05 -1.57678799e-04 -7.34152754e-06\n",
      "   8.10521996e-05  8.21861219e-06 -2.58567076e-05  2.35306139e-06\n",
      "  -3.02058979e-05 -3.02494430e-04 -3.98417804e-05 -2.36746260e-04\n",
      "  -1.50252211e-04  4.77748601e-05 -1.05099495e-05 -6.73321170e-05\n",
      "  -8.85543094e-06 -2.40033500e-04  1.70437539e-05]]\n"
     ]
    }
   ],
   "source": [
    "print(log_reg.intercept_)\n",
    "print(log_reg.coef_ )"
   ]
  },
  {
   "cell_type": "markdown",
   "id": "fbbc9bfc-1af2-4d1b-bb9d-11214d5cdd3f",
   "metadata": {},
   "source": [
    "#### **Task 6. Calculate the quality metrics for the training and test parts.**"
   ]
  },
  {
   "cell_type": "markdown",
   "id": "5319ceab-cf29-4525-8fb0-c6fd6eaadbc6",
   "metadata": {},
   "source": [
    "Quality metrics for the training part were calculated."
   ]
  },
  {
   "cell_type": "code",
   "execution_count": 14,
   "id": "9e10cb52-2d91-4584-8b8f-8663e5040e3e",
   "metadata": {},
   "outputs": [
    {
     "name": "stdout",
     "output_type": "stream",
     "text": [
      "Train balanced accuracy: 0.6139143891644463\n",
      "Train recall: [0.96585751 0.26197127]\n",
      "Train precision: [0.79875959 0.71670306]\n",
      "Train confusion matrix:\n",
      " [[14682   519]\n",
      " [ 3699  1313]]\n"
     ]
    }
   ],
   "source": [
    "print(f\"Train balanced accuracy: {balanced_accuracy_score(y_train, y_pred_train)}\")\n",
    "print(f\"Train recall: {recall_score(y_train, y_pred_train, average=None)}\")\n",
    "print(f\"Train precision: {precision_score(y_train, y_pred_train, average=None)}\")\n",
    "print(f\"Train confusion matrix:\\n {confusion_matrix(y_train, y_pred_train)}\")"
   ]
  },
  {
   "cell_type": "markdown",
   "id": "3a1fecc4-3888-4cad-80f1-7d5305e865e6",
   "metadata": {},
   "source": [
    "Calculated quality metrics on the test part."
   ]
  },
  {
   "cell_type": "code",
   "execution_count": 15,
   "id": "84cb26d2-d83e-4b57-8c0c-bdcc862b9517",
   "metadata": {},
   "outputs": [
    {
     "name": "stdout",
     "output_type": "stream",
     "text": [
      "Test balanced accuracy: 0.6153244655255379\n",
      "Test recall: [0.96782842 0.26282051]\n",
      "Test precision: [0.79690949 0.73214286]\n",
      "Test confusion matrix:\n",
      " [[7220  240]\n",
      " [1840  656]]\n"
     ]
    }
   ],
   "source": [
    "print(f\"Test balanced accuracy: {balanced_accuracy_score(y_test, y_pred_test)}\")\n",
    "print(f\"Test recall: {recall_score(y_test, y_pred_test, average=None)}\")\n",
    "print(f\"Test precision: {precision_score(y_test, y_pred_test, average=None)}\")\n",
    "print(f\"Test confusion matrix:\\n {confusion_matrix(y_test, y_pred_test)}\")"
   ]
  },
  {
   "cell_type": "markdown",
   "id": "db927652-58f4-447d-9430-4dde5b0cd561",
   "metadata": {},
   "source": [
    "Based on the information obtained, we can conclude that the model probably suffers from the problem of overfitting and underestimating the second class. First of all, the model has a high level of `balanced accuracy` on the training and test samples, which indicates that it has successfully learned the underlying patterns of the data. However, a careful analysis of the `precision` and `recall` metrics reveals problems with the second class recognition.\n",
    "\n",
    "It seems that the model has retrained on the first class, as it significantly prevails in the training data. This may also be the result of the model's excessive complexity, which tries to maximize its accuracy by adapting to the dominant class, neglecting the less represented classes."
   ]
  },
  {
   "cell_type": "markdown",
   "id": "28b65ed6-ab88-48d3-a299-72f5bebf0e41",
   "metadata": {},
   "source": [
    "#### **Task 7. Train a logistic regression with regularization (L2 or L1 as you wish). To do this, you need to find the optimal value of the regularization parameter. This can be done manually or using the built-in tools of the scikit-learn library.**"
   ]
  },
  {
   "cell_type": "markdown",
   "id": "84b8b64c-7ee4-4af0-abf3-92834b8dde38",
   "metadata": {},
   "source": [
    "The list and dictionary of possible values for the hyperparameter are specified."
   ]
  },
  {
   "cell_type": "code",
   "execution_count": 16,
   "id": "9d8ebb9b-ba70-4d42-a05b-d60903f989b8",
   "metadata": {},
   "outputs": [],
   "source": [
    "hyperparameters_list = np.concatenate((np.arange(0.1, 1, 0.1), np.arange(1, 10, 1), np.arange(10, 100, 10)))\n",
    "hyperparameters_dict = {\"C\": np.concatenate((np.arange(0.1, 1, 0.1), np.arange(1, 10, 1), np.arange(10, 100, 10)))}"
   ]
  },
  {
   "cell_type": "markdown",
   "id": "e4532978-40b5-4a17-925c-26e382906dd6",
   "metadata": {},
   "source": [
    "The training set is divided into two parts: training and validation. This is done to evaluate the quality of the model on independent data that the model did not see during training. This helps to avoid overfitting. We also implemented a loop that searches through the values of hyperparameters, uses each value to train a logistic regression on the training part, and evaluates the quality of the model by selecting the best value of the hyperparameter."
   ]
  },
  {
   "cell_type": "code",
   "execution_count": 17,
   "id": "769d5ed3-9c0e-42d3-8686-9e2b3699a873",
   "metadata": {},
   "outputs": [
    {
     "name": "stdout",
     "output_type": "stream",
     "text": [
      "Hyperparameter 0.1:\n",
      "Balanced acuracy train: 0.7561450444247729\n",
      "Balanced acuracy validation: 0.7612367847324812 \n",
      "\n",
      "Hyperparameter 0.2:\n",
      "Balanced acuracy train: 0.7641499404391112\n",
      "Balanced acuracy validation: 0.7648250904236045 \n",
      "\n",
      "Hyperparameter 0.30000000000000004:\n",
      "Balanced acuracy train: 0.7656836606450061\n",
      "Balanced acuracy validation: 0.766359737292823 \n",
      "\n",
      "Hyperparameter 0.4:\n",
      "Balanced acuracy train: 0.7668682338283991\n",
      "Balanced acuracy validation: 0.7678869211657613 \n",
      "\n",
      "Hyperparameter 0.5:\n",
      "Balanced acuracy train: 0.7674632744281609\n",
      "Balanced acuracy validation: 0.767184186020097 \n",
      "\n",
      "Hyperparameter 0.6:\n",
      "Balanced acuracy train: 0.7588331311541698\n",
      "Balanced acuracy validation: 0.7608819586979583 \n",
      "\n",
      "Hyperparameter 0.7000000000000001:\n",
      "Balanced acuracy train: 0.7680540310153765\n",
      "Balanced acuracy validation: 0.7674896227946846 \n",
      "\n",
      "Hyperparameter 0.8:\n",
      "Balanced acuracy train: 0.7669702632700568\n",
      "Balanced acuracy validation: 0.768932408067414 \n",
      "\n",
      "Hyperparameter 0.9:\n",
      "Balanced acuracy train: 0.7677601827262495\n",
      "Balanced acuracy validation: 0.7675889473874538 \n",
      "\n",
      "Hyperparameter 1.0:\n",
      "Balanced acuracy train: 0.7661809558156563\n",
      "Balanced acuracy validation: 0.7691385202492325 \n",
      "\n",
      "Hyperparameter 2.0:\n",
      "Balanced acuracy train: 0.7678591521589456\n",
      "Balanced acuracy validation: 0.7690093436713428 \n",
      "\n",
      "Hyperparameter 3.0:\n",
      "Balanced acuracy train: 0.7643084926177284\n",
      "Balanced acuracy validation: 0.7687636108669963 \n",
      "\n",
      "Hyperparameter 4.0:\n",
      "Balanced acuracy train: 0.7670704567063376\n",
      "Balanced acuracy validation: 0.7703677303438633 \n",
      "\n",
      "Hyperparameter 5.0:\n",
      "Balanced acuracy train: 0.7654912297957444\n",
      "Balanced acuracy validation: 0.7695582076091496 \n",
      "\n",
      "Hyperparameter 6.0:\n",
      "Balanced acuracy train: 0.768254417887938\n",
      "Balanced acuracy validation: 0.7708419643188688 \n",
      "\n",
      "Hyperparameter 7.0:\n",
      "Balanced acuracy train: 0.7684025660360863\n",
      "Balanced acuracy validation: 0.7700473675767154 \n",
      "\n",
      "Hyperparameter 8.0:\n",
      "Balanced acuracy train: 0.7661827918210331\n",
      "Balanced acuracy validation: 0.7707799547075003 \n",
      "\n",
      "Hyperparameter 9.0:\n",
      "Balanced acuracy train: 0.7657365113712118\n",
      "Balanced acuracy validation: 0.7704670549366325 \n",
      "\n",
      "Hyperparameter 10.0:\n",
      "Balanced acuracy train: 0.7686988623323825\n",
      "Balanced acuracy validation: 0.7713535132752749 \n",
      "\n",
      "Hyperparameter 20.0:\n",
      "Balanced acuracy train: 0.7664286853982929\n",
      "Balanced acuracy validation: 0.7692453078382819 \n",
      "\n",
      "Hyperparameter 30.0:\n",
      "Balanced acuracy train: 0.7692422762095232\n",
      "Balanced acuracy validation: 0.7701466921694846 \n",
      "\n",
      "Hyperparameter 40.0:\n",
      "Balanced acuracy train: 0.7687966077614942\n",
      "Balanced acuracy validation: 0.7686195082965462 \n",
      "\n",
      "Hyperparameter 50.0:\n",
      "Balanced acuracy train: 0.7680570910243381\n",
      "Balanced acuracy validation: 0.769116131260392 \n",
      "\n",
      "Hyperparameter 60.0:\n",
      "Balanced acuracy train: 0.7668245631290778\n",
      "Balanced acuracy validation: 0.7691459832455128 \n",
      "\n",
      "Hyperparameter 70.0:\n",
      "Balanced acuracy train: 0.7685015354687824\n",
      "Balanced acuracy validation: 0.7695507446128695 \n",
      "\n",
      "Hyperparameter 80.0:\n",
      "Balanced acuracy train: 0.7690929040577905\n",
      "Balanced acuracy validation: 0.7686195082965462 \n",
      "\n",
      "Hyperparameter 90.0:\n",
      "Balanced acuracy train: 0.764800279772248\n",
      "Balanced acuracy validation: 0.7693595584236114 \n",
      "\n",
      "Best hyperparameter value: 10.0\n",
      "Validation balanced accuracy: 0.7713535132752749\n"
     ]
    }
   ],
   "source": [
    "X_train2, X_val, y_train2, y_val = train_test_split(X_train, y_train, test_size=0.33)\n",
    "\n",
    "best_accuracy = 0\n",
    "best_hyperparameter = None\n",
    "\n",
    "for C in hyperparameters_list:\n",
    "    model = LogisticRegression(C=C, penalty='l1', solver='liblinear')\n",
    "    model.fit(X_train2, y_train2)\n",
    "\n",
    "    y_pred_train2 = model.predict(X_train2)\n",
    "    y_pred_val = model.predict(X_val)\n",
    "    accuracy_train2 = balanced_accuracy_score(y_train2, y_pred_train2)\n",
    "    accuracy_val = balanced_accuracy_score(y_val, y_pred_val)\n",
    "    print(f\"Hyperparameter {C}:\")\n",
    "    print(f\"Balanced acuracy train: {accuracy_train2}\")\n",
    "    print(f\"Balanced acuracy validation: {accuracy_val} \\n\")\n",
    "    if accuracy_val > best_accuracy:\n",
    "        best_accuracy = accuracy_val\n",
    "        best_hyperparameter = C\n",
    "\n",
    "print(\"Best hyperparameter value:\", best_hyperparameter)\n",
    "print(\"Validation balanced accuracy:\", best_accuracy)"
   ]
  },
  {
   "cell_type": "markdown",
   "id": "9dfb448b-2724-42a4-9095-29c80db1dcd4",
   "metadata": {},
   "source": [
    "Using the `validation_curve` function, a training curve was built using `KFold` as the `cv` argument."
   ]
  },
  {
   "cell_type": "code",
   "execution_count": 18,
   "id": "9846eb25-c6f0-4ead-b836-994f02824709",
   "metadata": {
    "scrolled": true
   },
   "outputs": [
    {
     "data": {
      "image/png": "[encoded data removed]",
      "text/plain": [
       "<Figure size 700x300 with 1 Axes>"
      ]
     },
     "metadata": {},
     "output_type": "display_data"
    }
   ],
   "source": [
    "train_scores, val_scores = validation_curve(\n",
    "    LogisticRegression(penalty=\"l1\", solver=\"liblinear\"), \n",
    "    X_train, y_train, param_name=\"C\", param_range=hyperparameters_list, \n",
    "    scoring=\"balanced_accuracy\", cv=KFold(n_splits=5, shuffle=True))\n",
    "\n",
    "plt.figure(figsize=(7, 3))\n",
    "plt.plot(hyperparameters_list, train_scores.mean(axis=1), label=\"Train\")\n",
    "plt.plot(hyperparameters_list, val_scores.mean(axis=1), label=\"Validation\")\n",
    "plt.title(\"Validation curve\")\n",
    "plt.xlabel(\"Hyperparameter C\")\n",
    "plt.ylabel(\"Balanced acuracy\")\n",
    "plt.legend()\n",
    "plt.show()"
   ]
  },
  {
   "cell_type": "markdown",
   "id": "687091f3-9af7-4e55-af4d-0d462d2607ec",
   "metadata": {},
   "source": [
    "Using the `validation_curve` function, a training curve was built using `ShuffleSplit` as the `cv` argument."
   ]
  },
  {
   "cell_type": "code",
   "execution_count": 19,
   "id": "0f5cd6b5-6d75-403b-901a-14f8b7360b66",
   "metadata": {},
   "outputs": [
    {
     "data": {
      "image/png": "[encoded data removed]",
      "text/plain": [
       "<Figure size 700x300 with 1 Axes>"
      ]
     },
     "metadata": {},
     "output_type": "display_data"
    }
   ],
   "source": [
    "train_scores, val_scores = validation_curve(\n",
    "    LogisticRegression(penalty=\"l1\", solver=\"liblinear\"), \n",
    "    X_train, y_train, param_name=\"C\", param_range=hyperparameters_list, \n",
    "    scoring=\"balanced_accuracy\", cv=ShuffleSplit(n_splits=5, test_size=0.33))\n",
    "\n",
    "plt.figure(figsize=(7, 3))\n",
    "plt.plot(hyperparameters_list, train_scores.mean(axis=1), label=\"Train\")\n",
    "plt.plot(hyperparameters_list, val_scores.mean(axis=1), label=\"Validation\")\n",
    "plt.title(\"Validation curve\")\n",
    "plt.xlabel(\"Hyperparameter C\")\n",
    "plt.ylabel(\"Balanced acuracy\")\n",
    "plt.legend()\n",
    "plt.show()"
   ]
  },
  {
   "cell_type": "markdown",
   "id": "e29aec11-c3a5-45cd-9871-cdf23de02696",
   "metadata": {},
   "source": [
    "The `validation_curve` function helps in evaluating the training and cross-validation for model hyperparameter selection. The main idea is that it automatically calculates the value of the model quality indicator for different values of the hyperparameter and then visualizes these results.\n",
    "\n",
    "The function builds a model for each value of the hyperparameter, using cross-validation to assess the quality. For each value of the hyperparameter, it calculates the average value of the quality metric (e.g., average error or average precision) on the training set and the validation set for each cross-validation rollup. It then averages these values over all convolutions to obtain the final result for each hyperparameter value.\n",
    "\n",
    "In this paper, `balanced accuracy` is used as the `scoring` quality measure.\n",
    "\n",
    "As for the `cv` argument, it indicates the number of convolutions to be used for cross-validation. In the rotation, the strategies `KFold` and `ShuffleSplit` were used.\n",
    "\n",
    "In the cross-validation with the `KFold` strategy, the data is divided into k groups, but each group is used as a training and validation set the same number of times. This allows you to use different parts of the data to evaluate the model each time.\n",
    "\n",
    "`ShuffleSplit` strategy randomly splits the data into training and validation sets. "
   ]
  },
  {
   "cell_type": "markdown",
   "id": "ab773ba4-a1bc-476d-9823-807d06318c7c",
   "metadata": {},
   "source": [
    "With the help of the `RandomizedSearchCV` class, hyperparameters are automatically selected."
   ]
  },
  {
   "cell_type": "code",
   "execution_count": 20,
   "id": "71bbff0b-d243-4ff7-b791-fe2d99bce810",
   "metadata": {},
   "outputs": [
    {
     "name": "stdout",
     "output_type": "stream",
     "text": [
      "Best hyperparameter value wtih RandomizedSearchCV: 50.0\n",
      "Balanced acuracy: 0.7681260851574059\n"
     ]
    }
   ],
   "source": [
    "random_search = RandomizedSearchCV(LogisticRegression(penalty=\"l1\", solver=\"liblinear\"), hyperparameters_dict, scoring=\"balanced_accuracy\", cv=5)\n",
    "random_search.fit(X_train, y_train)\n",
    "\n",
    "best_C_rand = random_search.best_params_[\"C\"]\n",
    "best_accuracy_rand = random_search.best_score_\n",
    "\n",
    "print(\"Best hyperparameter value wtih RandomizedSearchCV:\", best_C_rand)\n",
    "print(\"Balanced acuracy:\", best_accuracy_rand)"
   ]
  },
  {
   "cell_type": "markdown",
   "id": "6f7a936e-340d-4c23-9811-69d3e51570f3",
   "metadata": {},
   "source": [
    "With the help of the `GridSearchCV` class, hyperparameters are automatically selected."
   ]
  },
  {
   "cell_type": "code",
   "execution_count": 21,
   "id": "e9ed428d-2561-4036-9a39-96d52bde0c1f",
   "metadata": {},
   "outputs": [
    {
     "name": "stdout",
     "output_type": "stream",
     "text": [
      "Best hyperparameter value wtih GridSearchCV: 0.8\n",
      "Balanced acuracy: 0.7676239681985795\n"
     ]
    }
   ],
   "source": [
    "grid_search = GridSearchCV(LogisticRegression(penalty=\"l1\", solver=\"liblinear\"), hyperparameters_dict, scoring=\"balanced_accuracy\", cv=5)\n",
    "grid_search.fit(X_train, y_train)\n",
    "\n",
    "best_C_grid = grid_search.best_params_[\"C\"]\n",
    "best_accuracy_grid = grid_search.best_score_\n",
    "\n",
    "print(\"Best hyperparameter value wtih GridSearchCV:\", best_C_grid)\n",
    "print(\"Balanced acuracy:\", best_accuracy_grid)"
   ]
  },
  {
   "cell_type": "markdown",
   "id": "5e2ca7b1-337a-41f6-9ba7-a6269fd53fb3",
   "metadata": {},
   "source": [
    "As before, the `scoring` quality indicator is `balanced accuracy`, and the value of the `cv` argument is 5, which means that the data is divided into 5 parts, and each model instance will be trained 5 times: 4 times on the training set and 1 time on the test set."
   ]
  },
  {
   "cell_type": "markdown",
   "id": "7f3051bb-57eb-4d48-b695-b566d8293a6e",
   "metadata": {},
   "source": [
    "#### **Task 8. For a logistic regression with a selected hyperparameter, calculate the quality metrics for the training and test parts.**"
   ]
  },
  {
   "cell_type": "markdown",
   "id": "a1fed2a0-e5ca-4a8b-88aa-42a5e4e43871",
   "metadata": {},
   "source": [
    "A logistic regression with L1 regularization and the hyperparameter C, which was previously created with the help of the `GridSearchCV` class, was constructed."
   ]
  },
  {
   "cell_type": "code",
   "execution_count": 22,
   "id": "f62deb30-ea5e-48d0-a540-cd1e1d4a6a47",
   "metadata": {},
   "outputs": [],
   "source": [
    "log_reg_l1= LogisticRegression(penalty=\"l1\", solver=\"liblinear\", C=best_C_grid)\n",
    "log_reg_l1.fit(X_train, y_train)\n",
    "y_pred_train = log_reg_l1.predict(X_train)\n",
    "y_pred_test = log_reg_l1.predict(X_test)"
   ]
  },
  {
   "cell_type": "markdown",
   "id": "bdb623c2-50cc-4b9c-9fd5-63908d6be154",
   "metadata": {},
   "source": [
    "Calculated quality metrics for the training part."
   ]
  },
  {
   "cell_type": "code",
   "execution_count": 23,
   "id": "253f896e-13e3-4339-a93b-8ddcd6625569",
   "metadata": {},
   "outputs": [
    {
     "name": "stdout",
     "output_type": "stream",
     "text": [
      "Train balanced accuracy: 0.7673577887118674\n",
      "Train recall: [0.9273732  0.60734238]\n",
      "Train precision: [0.87749767 0.73384764]\n",
      "Train confusion matrix:\n",
      " [[14097  1104]\n",
      " [ 1968  3044]]\n"
     ]
    }
   ],
   "source": [
    "print(f\"Train balanced accuracy: {balanced_accuracy_score(y_train, y_pred_train)}\")\n",
    "print(f\"Train recall: {recall_score(y_train, y_pred_train, average=None)}\")\n",
    "print(f\"Train precision: {precision_score(y_train, y_pred_train, average=None)}\")\n",
    "print(f\"Train confusion matrix:\\n {confusion_matrix(y_train, y_pred_train)}\")"
   ]
  },
  {
   "cell_type": "markdown",
   "id": "6964271b-d325-4a1a-a1fa-ca928ef0299d",
   "metadata": {},
   "source": [
    "Calculated quality metrics on the test part."
   ]
  },
  {
   "cell_type": "code",
   "execution_count": 24,
   "id": "af0819e1-e02a-49b1-8f21-eb793bbf9bc4",
   "metadata": {},
   "outputs": [
    {
     "name": "stdout",
     "output_type": "stream",
     "text": [
      "Test balanced accuracy: 0.7720957285007217\n",
      "Test recall: [0.92520107 0.61899038]\n",
      "Test precision: [0.87889978 0.73466476]\n",
      "Test confusion matrix:\n",
      " [[6902  558]\n",
      " [ 951 1545]]\n"
     ]
    }
   ],
   "source": [
    "print(f\"Test balanced accuracy: {balanced_accuracy_score(y_test, y_pred_test)}\")\n",
    "print(f\"Test recall: {recall_score(y_test, y_pred_test, average=None)}\")\n",
    "print(f\"Test precision: {precision_score(y_test, y_pred_test, average=None)}\")\n",
    "print(f\"Test confusion matrix:\\n {confusion_matrix(y_test, y_pred_test)}\")"
   ]
  },
  {
   "cell_type": "markdown",
   "id": "45289ca4-9bed-4614-9fcb-812062ea3c04",
   "metadata": {},
   "source": [
    "After applying L1 regularization and fitting the hyperparameter C, the model improved significantly. We observe an increase in `balanced accuracy` on both training and test samples, which indicates its ability to better generalize new data. In addition, the model has become better at recognizing both classes, as evidenced by the improvement in the `precision` and `recall` metrics. These improvements make the model more reliable and suitable for practical use."
   ]
  },
  {
   "cell_type": "markdown",
   "id": "440171c3-318a-4ce8-ba83-2a5f752d39d2",
   "metadata": {},
   "source": [
    "#### **Task 9. Try to make a selection of informative indicators for logistic regression, train a model based on only selected indicators and evaluate its quality.**"
   ]
  },
  {
   "cell_type": "markdown",
   "id": "0f3fbe78-3eca-4fd7-bb14-24291c213dff",
   "metadata": {},
   "source": [
    "The \"adult\" dataset has been imported."
   ]
  },
  {
   "cell_type": "code",
   "execution_count": 25,
   "id": "00bbd059-e454-40c9-a8bb-fbbf23a80dee",
   "metadata": {},
   "outputs": [],
   "source": [
    "df2 = pd.read_csv(\"adult/adult.data\", sep=\", \", na_values=\"?\", engine=\"python\",\n",
    "                 names=[\"age\", \"workclass\", \"fnlwgt\", \"education\", \"education_num\", \"marital_status\", \"occupation\", \"relationship\", \"race\", \"sex\", \"capital_gain\", \"capital_loss\", \"hours_per_week\", \"native_country\", \"gross_income\"])"
   ]
  },
  {
   "cell_type": "markdown",
   "id": "9097691c-9e62-4c23-bd22-b90a69cffcdc",
   "metadata": {},
   "source": [
    "Data was pre-processed and uninformative indicators were removed."
   ]
  },
  {
   "cell_type": "code",
   "execution_count": 26,
   "id": "56069180-ff92-49c9-a65b-86697c8d449f",
   "metadata": {},
   "outputs": [],
   "source": [
    "df2.dropna(subset=[\"workclass\", \"native_country\"], inplace=True)\n",
    "df2[\"occupation\"].fillna(df2[\"occupation\"].mode()[0], inplace=True)\n",
    "df2['native_country'] = df2['native_country'].map(lambda x: True if x == 'United-States' else False)\n",
    "df2.rename(columns={'native_country': 'united_states'}, inplace=True)\n",
    "df2.drop(columns=[\"education\", \"race\", \"sex\", \"marital_status\"], inplace=True)\n",
    "for column in [\"workclass\", \"occupation\", \"relationship\"]:\n",
    "    df2 = pd.get_dummies(df2, columns=[column], drop_first=True)"
   ]
  },
  {
   "cell_type": "markdown",
   "id": "a8d30572-0bd8-4320-b565-ddb689df30eb",
   "metadata": {},
   "source": [
    "A new test and training set is divided, and a logistic regression model with L1 regularization is trained on the training set. The difference between this model and the previous one is that the classes fed into the model are balanced."
   ]
  },
  {
   "cell_type": "code",
   "execution_count": 27,
   "id": "13649b96-34da-43e4-8e33-d811e820c32d",
   "metadata": {},
   "outputs": [],
   "source": [
    "X2 = df2.loc[:, df2.columns != 'gross_income']\n",
    "y2 = df2[\"gross_income\"]\n",
    "X_train2, X_test2, y_train2, y_test2 = train_test_split(X2, y2, test_size=0.33)\n",
    "log_reg_l1B= LogisticRegression(penalty=\"l1\", solver=\"liblinear\", C=best_C_grid, class_weight='balanced')\n",
    "log_reg_l1B.fit(X_train2, y_train2)\n",
    "y_pred_train = log_reg_l1B.predict(X_train2)\n",
    "y_pred_test = log_reg_l1B.predict(X_test2)"
   ]
  },
  {
   "cell_type": "markdown",
   "id": "6de13dbf-4a37-4789-a8ca-617ef5f94a14",
   "metadata": {},
   "source": [
    "Quality metrics for the training part were calculated."
   ]
  },
  {
   "cell_type": "code",
   "execution_count": 28,
   "id": "ede19ac2-1b94-4872-b81e-cb592d67e592",
   "metadata": {},
   "outputs": [
    {
     "name": "stdout",
     "output_type": "stream",
     "text": [
      "Train balanced accuracy: 0.8184085761151267\n",
      "Train recall: [0.79684107 0.83997609]\n",
      "Train precision: [0.93780497 0.57723911]\n",
      "Train confusion matrix:\n",
      " [[12108  3087]\n",
      " [  803  4215]]\n"
     ]
    }
   ],
   "source": [
    "print(f\"Train balanced accuracy: {balanced_accuracy_score(y_train2, y_pred_train)}\")\n",
    "print(f\"Train recall: {recall_score(y_train2, y_pred_train, average=None)}\")\n",
    "print(f\"Train precision: {precision_score(y_train2, y_pred_train, average=None)}\")\n",
    "print(f\"Train confusion matrix:\\n {confusion_matrix(y_train2, y_pred_train)}\")"
   ]
  },
  {
   "cell_type": "markdown",
   "id": "0be8f792-02c6-4fe3-affb-697a75d9431d",
   "metadata": {},
   "source": [
    "Calculated quality metrics on the test part."
   ]
  },
  {
   "cell_type": "code",
   "execution_count": 29,
   "id": "4f90d5cc-cbdd-4ba4-b504-48fe3df1b1ee",
   "metadata": {},
   "outputs": [
    {
     "name": "stdout",
     "output_type": "stream",
     "text": [
      "Test balanced accuracy: 0.8179513123482411\n",
      "Test recall: [0.79815162 0.837751  ]\n",
      "Test precision: [0.93650794 0.58057334]\n",
      "Test confusion matrix:\n",
      " [[5959 1507]\n",
      " [ 404 2086]]\n"
     ]
    }
   ],
   "source": [
    "print(f\"Test balanced accuracy: {balanced_accuracy_score(y_test2, y_pred_test)}\")\n",
    "print(f\"Test recall: {recall_score(y_test2, y_pred_test, average=None)}\")\n",
    "print(f\"Test precision: {precision_score(y_test2, y_pred_test, average=None)}\")\n",
    "print(f\"Test confusion matrix:\\n {confusion_matrix(y_test2, y_pred_test)}\")"
   ]
  },
  {
   "cell_type": "markdown",
   "id": "9555b2eb-daee-4cbb-95a3-8e126eb23eb2",
   "metadata": {},
   "source": [
    "In this case, the logistic regression model with L1-type regularization and balanced class weights performs quite well on both training and test data. The `balanced accuracy`, `recall`, and `precision` for both classes are high, indicating that the model successfully discriminates between classes and avoids overfitting.\n",
    "An important feature is the balance of classes and the reduction of features, which has a positive effect on avoiding overfitting and improving the generalization ability of the model. "
   ]
  },
  {
   "cell_type": "markdown",
   "id": "74dc67ca-0ac4-499a-9336-fbe276bcb93a",
   "metadata": {},
   "source": [
    "#### **Task 10. Try to train another classifier by choosing the optimal values of hyperparameters and evaluate its quality.**"
   ]
  },
  {
   "cell_type": "markdown",
   "id": "066411e2-ff52-41d3-ab30-ea349212560f",
   "metadata": {},
   "source": [
    "For the K-nearest neighbor rule classifier to work correctly, we scaled the quantitative features to the range [0, 1], because this classifier calculates the distance between features. If the scales of different features differ significantly, the distances will be distorted, and this can lead to incorrect classification results."
   ]
  },
  {
   "cell_type": "code",
   "execution_count": 30,
   "id": "ca44538b-8ca3-4294-834b-f3f27175b3a7",
   "metadata": {},
   "outputs": [],
   "source": [
    "scaler = MinMaxScaler(feature_range=(0, 1))\n",
    "for column in [[\"age\"], [\"fnlwgt\"], [\"education_num\"], [\"capital_gain\"], [\"capital_loss\"], [\"hours_per_week\"]]:\n",
    "    df[column] = scaler.fit_transform(df[column])"
   ]
  },
  {
   "cell_type": "markdown",
   "id": "a876423a-44ed-4e99-a9f2-f983942dd178",
   "metadata": {},
   "source": [
    "With the help of the `GridSearchCV` class, the optimal value of the number of neighbors was calculated."
   ]
  },
  {
   "cell_type": "code",
   "execution_count": 31,
   "id": "1dbbecc2-f3a5-4cd0-a9bc-174405b5b98e",
   "metadata": {},
   "outputs": [],
   "source": [
    "search = GridSearchCV(KNeighborsClassifier(), {\"n_neighbors\": np.concatenate((np.arange(1, 10, 1), np.arange(10, 100, 10)))}, scoring=\"balanced_accuracy\", cv=5)\n",
    "search.fit(X_train, y_train)\n",
    "\n",
    "best_n_neighbors = search.best_params_[\"n_neighbors\"]"
   ]
  },
  {
   "cell_type": "markdown",
   "id": "f29af532-01ac-41f9-84b7-fc1b3db28485",
   "metadata": {},
   "source": [
    "The K-nearest neighbor rule classifier is trained on the training set."
   ]
  },
  {
   "cell_type": "code",
   "execution_count": 32,
   "id": "7308747b-000d-4c64-9b0a-917c24b6b957",
   "metadata": {},
   "outputs": [],
   "source": [
    "knn = KNeighborsClassifier(n_neighbors=best_n_neighbors)\n",
    "knn.fit(X_train, y_train)\n",
    "y_pred_train = knn.predict(X_train)\n",
    "y_pred_test = knn.predict(X_test)"
   ]
  },
  {
   "cell_type": "markdown",
   "id": "f065a4ba-1df3-478e-9d7a-4850111fcd25",
   "metadata": {},
   "source": [
    "Quality metrics for the training part were calculated."
   ]
  },
  {
   "cell_type": "code",
   "execution_count": 33,
   "id": "72e680b8-35a8-489b-bd83-384c2b5fe0c2",
   "metadata": {
    "scrolled": true
   },
   "outputs": [
    {
     "name": "stdout",
     "output_type": "stream",
     "text": [
      "Train balanced accuracy: 1.0\n",
      "Train recall: [1. 1.]\n",
      "Train precision: [1. 1.]\n",
      "Train confusion matrix:\n",
      " [[15201     0]\n",
      " [    0  5012]]\n"
     ]
    }
   ],
   "source": [
    "print(f\"Train balanced accuracy: {balanced_accuracy_score(y_train, y_pred_train)}\")\n",
    "print(f\"Train recall: {recall_score(y_train, y_pred_train, average=None)}\")\n",
    "print(f\"Train precision: {precision_score(y_train, y_pred_train, average=None)}\")\n",
    "print(f\"Train confusion matrix:\\n {confusion_matrix(y_train, y_pred_train)}\")"
   ]
  },
  {
   "cell_type": "markdown",
   "id": "3397221d-57e5-41a9-be35-5da9da23af97",
   "metadata": {},
   "source": [
    "Calculated quality metrics on the test part."
   ]
  },
  {
   "cell_type": "code",
   "execution_count": 34,
   "id": "bd5febfa-7b84-45d5-bb54-40b9ab8b34cc",
   "metadata": {
    "scrolled": true
   },
   "outputs": [
    {
     "name": "stdout",
     "output_type": "stream",
     "text": [
      "Test balanced accuracy: 0.6192191689008043\n",
      "Test recall: [0.80093834 0.4375    ]\n",
      "Test precision: [0.80973032 0.42374854]\n",
      "Test confusion matrix:\n",
      " [[5975 1485]\n",
      " [1404 1092]]\n"
     ]
    }
   ],
   "source": [
    "print(f\"Test balanced accuracy: {balanced_accuracy_score(y_test, y_pred_test)}\")\n",
    "print(f\"Test recall: {recall_score(y_test, y_pred_test, average=None)}\")\n",
    "print(f\"Test precision: {precision_score(y_test, y_pred_test, average=None)}\")\n",
    "print(f\"Test confusion matrix:\\n {confusion_matrix(y_test, y_pred_test)}\")"
   ]
  },
  {
   "cell_type": "markdown",
   "id": "467bb37a-7487-443a-b0bd-7ba5aed47b71",
   "metadata": {},
   "source": [
    "According to the above metrics, this model demonstrates less satisfactory results compared to the previous models. The `Balanced acuracy` on the test set is lower, indicating that the model is less effective at discriminating between classes on new data. Recall for the second class is extremely low, indicating that the model did a poor job of identifying this class. Precision for both classes is also low, especially for the second class. "
   ]
  },
  {
   "cell_type": "markdown",
   "id": "944263fa-75df-40bc-b25b-7428c7d64481",
   "metadata": {},
   "source": [
    "#### **Task 11. Compare the quality of the trained classifiers on the test set. Which classifier is better?**"
   ]
  },
  {
   "cell_type": "markdown",
   "id": "4e8724ad-9789-421a-98fb-edb6d80f162f",
   "metadata": {},
   "source": [
    "A function for testing the model has been created."
   ]
  },
  {
   "cell_type": "code",
   "execution_count": 35,
   "id": "09becbca-5487-4bee-87ca-434e50d64556",
   "metadata": {},
   "outputs": [],
   "source": [
    "def estimate_clf(clf, X_train, X_test, y_train, y_test):\n",
    "    clf.fit(X_train, y_train)\n",
    "    y_pred_test = clf.predict(X_test)\n",
    "    print(f\"Test balanced accuracy: {balanced_accuracy_score(y_test, y_pred_test)}\")\n",
    "    print(f\"Test recall: {recall_score(y_test, y_pred_test, average=None)}\")\n",
    "    print(f\"Test precision: {precision_score(y_test, y_pred_test, average=None)}\")\n",
    "    print(f\"Test confusion matrix:\\n {confusion_matrix(y_test, y_pred_test)} \\n\\n\")"
   ]
  },
  {
   "cell_type": "markdown",
   "id": "d0c5f038-3d7c-4d16-a29a-ecacf040fbde",
   "metadata": {},
   "source": [
    "All models were trained, once again on a new data set, and quality metrics for each model were also derived."
   ]
  },
  {
   "cell_type": "code",
   "execution_count": 36,
   "id": "25e12a29-0260-4f46-96a4-05afa26e6df1",
   "metadata": {
    "scrolled": true
   },
   "outputs": [
    {
     "name": "stdout",
     "output_type": "stream",
     "text": [
      "Logistic Regression:\n",
      "Test balanced accuracy: 0.6197762112143752\n",
      "Test recall: [0.96103029 0.27852213]\n",
      "Test precision: [0.80207173 0.70143149]\n",
      "Test confusion matrix:\n",
      " [[7201  292]\n",
      " [1777  686]] \n",
      "\n",
      "\n",
      "Logistic Regression L1:\n",
      "Test balanced accuracy: 0.7635680431252685\n",
      "Test recall: [0.9229948  0.60414129]\n",
      "Test precision: [0.87644152 0.72058111]\n",
      "Test confusion matrix:\n",
      " [[6916  577]\n",
      " [ 975 1488]] \n",
      "\n",
      "\n",
      "Logistic Regression L1 with balanced classes:\n",
      "Test balanced accuracy: 0.812845839768491\n",
      "Test recall: [0.79580942 0.82988226]\n",
      "Test precision: [0.9343466  0.57190823]\n",
      "Test confusion matrix:\n",
      " [[5963 1530]\n",
      " [ 419 2044]] \n",
      "\n",
      "\n",
      "kNN:\n",
      "Test balanced accuracy: 0.6383230926209164\n",
      "Test recall: [0.79674363 0.47990256]\n",
      "Test precision: [0.82333471 0.43696858]\n",
      "Test confusion matrix:\n",
      " [[5970 1523]\n",
      " [1281 1182]] \n",
      "\n",
      "\n"
     ]
    }
   ],
   "source": [
    "X_train, X_test, y_train, y_test = train_test_split(X, y, test_size=0.33)\n",
    "print(\"Logistic Regression:\")\n",
    "estimate_clf(log_reg, X_train, X_test, y_train, y_test)\n",
    "print(\"Logistic Regression L1:\")\n",
    "estimate_clf(log_reg_l1, X_train, X_test, y_train, y_test)\n",
    "print(\"Logistic Regression L1 with balanced classes:\")\n",
    "estimate_clf(log_reg_l1B, X_train, X_test, y_train, y_test)\n",
    "print(\"kNN:\")\n",
    "estimate_clf(knn, X_train, X_test, y_train, y_test)"
   ]
  },
  {
   "cell_type": "markdown",
   "id": "69efce31-b9a4-4ead-be35-dc04345f7707",
   "metadata": {},
   "source": [
    "Comparing the quality of the classifiers on the test part, we can note that the L1 logistic regression using balanced classes seems to be the best among the models presented. It achieves the highest level of balanced accuracy and provides good performance for both accuracy and completeness of both classes. This model demonstrates the ability to correctly classify data with high accuracy, given the importance of avoiding both first- and second-order errors."
   ]
  }
 ],
 "metadata": {
  "kernelspec": {
   "display_name": "Python 3 (ipykernel)",
   "language": "python",
   "name": "python3"
  },
  "language_info": {
   "codemirror_mode": {
    "name": "ipython",
    "version": 3
   },
   "file_extension": ".py",
   "mimetype": "text/x-python",
   "name": "python",
   "nbconvert_exporter": "python",
   "pygments_lexer": "ipython3",
   "version": "3.11.7"
  }
 },
 "nbformat": 4,
 "nbformat_minor": 5
}
